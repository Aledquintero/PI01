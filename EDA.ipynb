{
 "cells": [
  {
   "cell_type": "code",
   "execution_count": 2,
   "metadata": {},
   "outputs": [],
   "source": [
    "import pandas as pd\n",
    "import matplotlib.pyplot as plt\n",
    "import numpy as np"
   ]
  },
  {
   "attachments": {},
   "cell_type": "markdown",
   "metadata": {},
   "source": [
    "**Lectura de datos**"
   ]
  },
  {
   "cell_type": "code",
   "execution_count": 3,
   "metadata": {},
   "outputs": [
    {
     "data": {
      "text/html": [
       "<div>\n",
       "<style scoped>\n",
       "    .dataframe tbody tr th:only-of-type {\n",
       "        vertical-align: middle;\n",
       "    }\n",
       "\n",
       "    .dataframe tbody tr th {\n",
       "        vertical-align: top;\n",
       "    }\n",
       "\n",
       "    .dataframe thead th {\n",
       "        text-align: right;\n",
       "    }\n",
       "</style>\n",
       "<table border=\"1\" class=\"dataframe\">\n",
       "  <thead>\n",
       "    <tr style=\"text-align: right;\">\n",
       "      <th></th>\n",
       "      <th>show_id</th>\n",
       "      <th>type</th>\n",
       "      <th>title</th>\n",
       "      <th>director</th>\n",
       "      <th>cast</th>\n",
       "      <th>country</th>\n",
       "      <th>date_added</th>\n",
       "      <th>release_year</th>\n",
       "      <th>antiquity_category</th>\n",
       "      <th>rating</th>\n",
       "      <th>duration_int</th>\n",
       "      <th>duration_type</th>\n",
       "      <th>duration_category</th>\n",
       "      <th>listed_in</th>\n",
       "      <th>description</th>\n",
       "      <th>Valoraciones</th>\n",
       "      <th>Promedio_Valoraciones</th>\n",
       "    </tr>\n",
       "  </thead>\n",
       "  <tbody>\n",
       "    <tr>\n",
       "      <th>0</th>\n",
       "      <td>as7362</td>\n",
       "      <td>Movie</td>\n",
       "      <td>Drunk, Stoned, Brilliant, Dead: The Story of t...</td>\n",
       "      <td>Douglas Tirola</td>\n",
       "      <td>['Chevy Chase', 'Judd Apatow', 'Henry Beard', ...</td>\n",
       "      <td>NaN</td>\n",
       "      <td>NaN</td>\n",
       "      <td>2015</td>\n",
       "      <td>Vieja</td>\n",
       "      <td>R</td>\n",
       "      <td>95</td>\n",
       "      <td>min</td>\n",
       "      <td>Corta</td>\n",
       "      <td>['Documentary']</td>\n",
       "      <td>From 1970s-1990s, the hippest and most outrage...</td>\n",
       "      <td>469</td>\n",
       "      <td>3.7</td>\n",
       "    </tr>\n",
       "  </tbody>\n",
       "</table>\n",
       "</div>"
      ],
      "text/plain": [
       "  show_id   type                                              title  \\\n",
       "0  as7362  Movie  Drunk, Stoned, Brilliant, Dead: The Story of t...   \n",
       "\n",
       "         director                                               cast country  \\\n",
       "0  Douglas Tirola  ['Chevy Chase', 'Judd Apatow', 'Henry Beard', ...     NaN   \n",
       "\n",
       "  date_added  release_year antiquity_category rating  duration_int  \\\n",
       "0        NaN          2015              Vieja      R            95   \n",
       "\n",
       "  duration_type duration_category        listed_in  \\\n",
       "0           min             Corta  ['Documentary']   \n",
       "\n",
       "                                         description  Valoraciones  \\\n",
       "0  From 1970s-1990s, the hippest and most outrage...           469   \n",
       "\n",
       "   Promedio_Valoraciones  \n",
       "0                    3.7  "
      ]
     },
     "execution_count": 3,
     "metadata": {},
     "output_type": "execute_result"
    }
   ],
   "source": [
    "data = pd.read_csv(\"Datos/data.csv\")\n",
    "actores = pd.read_csv(\"Datos/actores.csv\")\n",
    "generos = pd.read_csv(\"Datos/generos.csv\")\n",
    "\n",
    "data.head(1)"
   ]
  },
  {
   "attachments": {},
   "cell_type": "markdown",
   "metadata": {},
   "source": [
    "### **EDA-AÑO**"
   ]
  },
  {
   "attachments": {},
   "cell_type": "markdown",
   "metadata": {},
   "source": [
    "_Arreglo de los datos_"
   ]
  },
  {
   "cell_type": "code",
   "execution_count": 4,
   "metadata": {},
   "outputs": [],
   "source": [
    "#Agrupa los datos para contar cuantas valoraciones hubo en cada año\n",
    "grupo = data.groupby(\"release_year\")\n",
    "val_año = grupo[\"Valoraciones\"].sum().reset_index() #Numero de Valoraciones por año\n",
    "\n",
    "años = val_año.loc[val_año[\"Valoraciones\"] > val_año[\"Valoraciones\"].mean()].index #Años que tengan numero de valoraciones por encima de la media\n",
    "prom_año = grupo[\"Promedio_Valoraciones\"].mean().iloc[años].reset_index() #Promedio de valoraciones por año\n"
   ]
  },
  {
   "attachments": {},
   "cell_type": "markdown",
   "metadata": {},
   "source": [
    "**TOP NÚMERO DE VALORACIONES POR AÑO**"
   ]
  },
  {
   "cell_type": "code",
   "execution_count": 5,
   "metadata": {},
   "outputs": [
    {
     "data": {
      "text/html": [
       "<div>\n",
       "<style scoped>\n",
       "    .dataframe tbody tr th:only-of-type {\n",
       "        vertical-align: middle;\n",
       "    }\n",
       "\n",
       "    .dataframe tbody tr th {\n",
       "        vertical-align: top;\n",
       "    }\n",
       "\n",
       "    .dataframe thead th {\n",
       "        text-align: right;\n",
       "    }\n",
       "</style>\n",
       "<table border=\"1\" class=\"dataframe\">\n",
       "  <thead>\n",
       "    <tr style=\"text-align: right;\">\n",
       "      <th></th>\n",
       "      <th>release_year</th>\n",
       "      <th>Valoraciones</th>\n",
       "    </tr>\n",
       "  </thead>\n",
       "  <tbody>\n",
       "    <tr>\n",
       "      <th>97</th>\n",
       "      <td>2019</td>\n",
       "      <td>1008526</td>\n",
       "    </tr>\n",
       "    <tr>\n",
       "      <th>98</th>\n",
       "      <td>2020</td>\n",
       "      <td>994711</td>\n",
       "    </tr>\n",
       "    <tr>\n",
       "      <th>99</th>\n",
       "      <td>2021</td>\n",
       "      <td>980410</td>\n",
       "    </tr>\n",
       "    <tr>\n",
       "      <th>96</th>\n",
       "      <td>2018</td>\n",
       "      <td>927868</td>\n",
       "    </tr>\n",
       "    <tr>\n",
       "      <th>95</th>\n",
       "      <td>2017</td>\n",
       "      <td>829717</td>\n",
       "    </tr>\n",
       "  </tbody>\n",
       "</table>\n",
       "</div>"
      ],
      "text/plain": [
       "    release_year  Valoraciones\n",
       "97          2019       1008526\n",
       "98          2020        994711\n",
       "99          2021        980410\n",
       "96          2018        927868\n",
       "95          2017        829717"
      ]
     },
     "execution_count": 5,
     "metadata": {},
     "output_type": "execute_result"
    },
    {
     "data": {
      "image/png": "[encoded data removed]",
      "text/plain": [
       "<Figure size 720x360 with 2 Axes>"
      ]
     },
     "metadata": {
      "needs_background": "light"
     },
     "output_type": "display_data"
    }
   ],
   "source": [
    "#Grafica \n",
    "fig, (ax1, ax2) = plt.subplots(nrows=1, ncols=2, figsize=(10,5))\n",
    "\n",
    "ax2.plot(val_año.release_year, val_año.Valoraciones)\n",
    "ax2.set_title(\"Evolucion N° Valoraciones\")\n",
    "\n",
    "top_val_año = val_año.nlargest(5, \"Valoraciones\")\n",
    "ax1.bar(top_val_año.release_year, top_val_año.Valoraciones)\n",
    "ax1.set_title(\"Top Valoraciones por año\")\n",
    "\n",
    "top_val_año"
   ]
  },
  {
   "attachments": {},
   "cell_type": "markdown",
   "metadata": {},
   "source": [
    "**TOP 5 AÑOS CON MAYOR PROMEDIO DE VALORACIONES**"
   ]
  },
  {
   "cell_type": "code",
   "execution_count": 6,
   "metadata": {},
   "outputs": [
    {
     "data": {
      "text/html": [
       "<div>\n",
       "<style scoped>\n",
       "    .dataframe tbody tr th:only-of-type {\n",
       "        vertical-align: middle;\n",
       "    }\n",
       "\n",
       "    .dataframe tbody tr th {\n",
       "        vertical-align: top;\n",
       "    }\n",
       "\n",
       "    .dataframe thead th {\n",
       "        text-align: right;\n",
       "    }\n",
       "</style>\n",
       "<table border=\"1\" class=\"dataframe\">\n",
       "  <thead>\n",
       "    <tr style=\"text-align: right;\">\n",
       "      <th></th>\n",
       "      <th>release_year</th>\n",
       "      <th>Promedio_Valoraciones</th>\n",
       "    </tr>\n",
       "  </thead>\n",
       "  <tbody>\n",
       "    <tr>\n",
       "      <th>1</th>\n",
       "      <td>2005</td>\n",
       "      <td>3.540239</td>\n",
       "    </tr>\n",
       "    <tr>\n",
       "      <th>7</th>\n",
       "      <td>2011</td>\n",
       "      <td>3.537525</td>\n",
       "    </tr>\n",
       "    <tr>\n",
       "      <th>8</th>\n",
       "      <td>2012</td>\n",
       "      <td>3.537075</td>\n",
       "    </tr>\n",
       "    <tr>\n",
       "      <th>2</th>\n",
       "      <td>2006</td>\n",
       "      <td>3.536455</td>\n",
       "    </tr>\n",
       "    <tr>\n",
       "      <th>16</th>\n",
       "      <td>2020</td>\n",
       "      <td>3.535198</td>\n",
       "    </tr>\n",
       "  </tbody>\n",
       "</table>\n",
       "</div>"
      ],
      "text/plain": [
       "    release_year  Promedio_Valoraciones\n",
       "1           2005               3.540239\n",
       "7           2011               3.537525\n",
       "8           2012               3.537075\n",
       "2           2006               3.536455\n",
       "16          2020               3.535198"
      ]
     },
     "execution_count": 6,
     "metadata": {},
     "output_type": "execute_result"
    },
    {
     "data": {
      "image/png": "[encoded data removed]",
      "text/plain": [
       "<Figure size 432x288 with 1 Axes>"
      ]
     },
     "metadata": {
      "needs_background": "light"
     },
     "output_type": "display_data"
    }
   ],
   "source": [
    "#Grafica \n",
    "fig, ax = plt.subplots()\n",
    "ax.bar(prom_año.release_year, prom_año.Promedio_Valoraciones)\n",
    "\n",
    "ax.set_ylim([3.5, 3.55])\n",
    "plt.xticks(np.arange(min(prom_año.release_year), max(prom_año.release_year)+1, 3))\n",
    "\n",
    "prom_año.nlargest(5, \"Promedio_Valoraciones\")"
   ]
  },
  {
   "attachments": {},
   "cell_type": "markdown",
   "metadata": {},
   "source": [
    "### **EDA-DIRECTOR**"
   ]
  },
  {
   "attachments": {},
   "cell_type": "markdown",
   "metadata": {},
   "source": [
    "_Arreglo de los datos_"
   ]
  },
  {
   "cell_type": "code",
   "execution_count": 7,
   "metadata": {},
   "outputs": [],
   "source": [
    "#Agrupa los directores para contar cuantas valoraciones totales tiene cada uno\n",
    "grupo = data.groupby(\"director\")\n",
    "val_dir = grupo.Valoraciones.sum().reset_index()\n",
    "\n",
    "directores = val_dir.loc[val_dir[\"Valoraciones\"] >= val_dir[\"Valoraciones\"].median()].index #directores que tengan numero de valoraciones por encima de la media\n",
    "prom_dir = grupo[\"Promedio_Valoraciones\"].mean().iloc[directores].reset_index() #Promedio de valoraciones por año"
   ]
  },
  {
   "attachments": {},
   "cell_type": "markdown",
   "metadata": {},
   "source": [
    "**TOP 5 DIRECTORES POR NUMERO DE VALORACIONES**"
   ]
  },
  {
   "cell_type": "code",
   "execution_count": 8,
   "metadata": {},
   "outputs": [
    {
     "data": {
      "text/html": [
       "<div>\n",
       "<style scoped>\n",
       "    .dataframe tbody tr th:only-of-type {\n",
       "        vertical-align: middle;\n",
       "    }\n",
       "\n",
       "    .dataframe tbody tr th {\n",
       "        vertical-align: top;\n",
       "    }\n",
       "\n",
       "    .dataframe thead th {\n",
       "        text-align: right;\n",
       "    }\n",
       "</style>\n",
       "<table border=\"1\" class=\"dataframe\">\n",
       "  <thead>\n",
       "    <tr style=\"text-align: right;\">\n",
       "      <th></th>\n",
       "      <th>director</th>\n",
       "      <th>Valoraciones</th>\n",
       "    </tr>\n",
       "  </thead>\n",
       "  <tbody>\n",
       "    <tr>\n",
       "      <th>5406</th>\n",
       "      <td>Mark Knight</td>\n",
       "      <td>29921</td>\n",
       "    </tr>\n",
       "    <tr>\n",
       "      <th>3716</th>\n",
       "      <td>Jay Chapman</td>\n",
       "      <td>13398</td>\n",
       "    </tr>\n",
       "    <tr>\n",
       "      <th>5269</th>\n",
       "      <td>Manny Rodriguez</td>\n",
       "      <td>10934</td>\n",
       "    </tr>\n",
       "    <tr>\n",
       "      <th>4080</th>\n",
       "      <td>John English</td>\n",
       "      <td>9213</td>\n",
       "    </tr>\n",
       "    <tr>\n",
       "      <th>6894</th>\n",
       "      <td>Rajiv Chilaka</td>\n",
       "      <td>9044</td>\n",
       "    </tr>\n",
       "  </tbody>\n",
       "</table>\n",
       "</div>"
      ],
      "text/plain": [
       "             director  Valoraciones\n",
       "5406      Mark Knight         29921\n",
       "3716      Jay Chapman         13398\n",
       "5269  Manny Rodriguez         10934\n",
       "4080     John English          9213\n",
       "6894    Rajiv Chilaka          9044"
      ]
     },
     "execution_count": 8,
     "metadata": {},
     "output_type": "execute_result"
    },
    {
     "data": {
      "image/png": "[encoded data removed]",
      "text/plain": [
       "<Figure size 720x360 with 1 Axes>"
      ]
     },
     "metadata": {
      "needs_background": "light"
     },
     "output_type": "display_data"
    }
   ],
   "source": [
    "#Grafica \n",
    "fig, ax = plt.subplots(figsize=(10,5))\n",
    "\n",
    "top_val_dir = val_dir.nlargest(5, \"Valoraciones\")\n",
    "ax.bar(top_val_dir.director, top_val_dir.Valoraciones)\n",
    "ax.set_title(\"Top Valoraciones por Director\")\n",
    "\n",
    "top_val_dir"
   ]
  },
  {
   "attachments": {},
   "cell_type": "markdown",
   "metadata": {},
   "source": [
    "**TOP 5 DIRECTORES CON MAYOR PROMEDIO DE VALORACIONES**"
   ]
  },
  {
   "cell_type": "code",
   "execution_count": 9,
   "metadata": {},
   "outputs": [
    {
     "data": {
      "text/html": [
       "<div>\n",
       "<style scoped>\n",
       "    .dataframe tbody tr th:only-of-type {\n",
       "        vertical-align: middle;\n",
       "    }\n",
       "\n",
       "    .dataframe tbody tr th {\n",
       "        vertical-align: top;\n",
       "    }\n",
       "\n",
       "    .dataframe thead th {\n",
       "        text-align: right;\n",
       "    }\n",
       "</style>\n",
       "<table border=\"1\" class=\"dataframe\">\n",
       "  <thead>\n",
       "    <tr style=\"text-align: right;\">\n",
       "      <th></th>\n",
       "      <th>director</th>\n",
       "      <th>Promedio_Valoraciones</th>\n",
       "    </tr>\n",
       "  </thead>\n",
       "  <tbody>\n",
       "    <tr>\n",
       "      <th>93</th>\n",
       "      <td>Ajay Bhuyan, Kunal Kohli</td>\n",
       "      <td>3.7</td>\n",
       "    </tr>\n",
       "    <tr>\n",
       "      <th>211</th>\n",
       "      <td>Ami Canaan Mann</td>\n",
       "      <td>3.7</td>\n",
       "    </tr>\n",
       "    <tr>\n",
       "      <th>497</th>\n",
       "      <td>Benny Safdie, Josh Safdie</td>\n",
       "      <td>3.7</td>\n",
       "    </tr>\n",
       "    <tr>\n",
       "      <th>521</th>\n",
       "      <td>Bill Eagles</td>\n",
       "      <td>3.7</td>\n",
       "    </tr>\n",
       "    <tr>\n",
       "      <th>579</th>\n",
       "      <td>Brent Dawes</td>\n",
       "      <td>3.7</td>\n",
       "    </tr>\n",
       "  </tbody>\n",
       "</table>\n",
       "</div>"
      ],
      "text/plain": [
       "                      director  Promedio_Valoraciones\n",
       "93    Ajay Bhuyan, Kunal Kohli                    3.7\n",
       "211            Ami Canaan Mann                    3.7\n",
       "497  Benny Safdie, Josh Safdie                    3.7\n",
       "521                Bill Eagles                    3.7\n",
       "579                Brent Dawes                    3.7"
      ]
     },
     "execution_count": 9,
     "metadata": {},
     "output_type": "execute_result"
    },
    {
     "data": {
      "image/png": "[encoded data removed]",
      "text/plain": [
       "<Figure size 936x360 with 1 Axes>"
      ]
     },
     "metadata": {
      "needs_background": "light"
     },
     "output_type": "display_data"
    }
   ],
   "source": [
    "#Grafica \n",
    "fig, ax = plt.subplots(figsize=(13,5))\n",
    "\n",
    "top_prom_dir = prom_dir.nlargest(5, \"Promedio_Valoraciones\")\n",
    "ax.bar(top_prom_dir.director, top_prom_dir.Promedio_Valoraciones)\n",
    "ax.set_title(\"Top Valoraciones por Director\")\n",
    "\n",
    "top_prom_dir"
   ]
  },
  {
   "attachments": {},
   "cell_type": "markdown",
   "metadata": {},
   "source": [
    "### **EDA-CAST**"
   ]
  },
  {
   "attachments": {},
   "cell_type": "markdown",
   "metadata": {},
   "source": [
    "_Arreglo de datos_"
   ]
  },
  {
   "cell_type": "code",
   "execution_count": 10,
   "metadata": {},
   "outputs": [],
   "source": [
    "#Los datos cambian de tipo con la exportacion a CSV por lo que tenemos que corregirlo\n",
    "data.cast = data.cast.apply(eval)"
   ]
  },
  {
   "cell_type": "code",
   "execution_count": 11,
   "metadata": {},
   "outputs": [],
   "source": [
    "# convertir la columna 'cast' en una lista plana\n",
    "lista_actores = data['cast'].explode().reset_index(drop=True)\n",
    "\n",
    "# contar cuántas veces se repite cada nombre de actor\n",
    "conteo_actores = lista_actores.value_counts().reset_index()\n",
    "conteo_actores = conteo_actores.drop(index=0, axis=0)"
   ]
  },
  {
   "cell_type": "code",
   "execution_count": 12,
   "metadata": {},
   "outputs": [],
   "source": [
    "actores_filtrados = conteo_actores.loc[conteo_actores.cast > 5] #Actores con mas de 5 peliculas\n",
    "data_r = data.loc[data.Valoraciones > data.Valoraciones.mean()] #Registros con Numero de Valoraciones encima del promedio\n",
    "\n",
    "#Ingresamos los datos en un Dataframe\n",
    "act = []\n",
    "prom = []\n",
    "\n",
    "for i in actores_filtrados[\"index\"]:\n",
    "    filtro = data_r['cast'].apply(lambda x: i in x)\n",
    "    promedio = data_r[filtro].Promedio_Valoraciones.mean()\n",
    "    act.append(i)\n",
    "    prom.append(promedio)\n",
    "    \n",
    "prom_act = pd.DataFrame({\"Actor\" : act, \"Promedio_Valoracion\" : prom})"
   ]
  },
  {
   "attachments": {},
   "cell_type": "markdown",
   "metadata": {},
   "source": [
    "**TOP 5 ACTORES CON MAYOR PROMEDIO DE VALORACIONES**"
   ]
  },
  {
   "cell_type": "code",
   "execution_count": 13,
   "metadata": {},
   "outputs": [
    {
     "data": {
      "text/html": [
       "<div>\n",
       "<style scoped>\n",
       "    .dataframe tbody tr th:only-of-type {\n",
       "        vertical-align: middle;\n",
       "    }\n",
       "\n",
       "    .dataframe tbody tr th {\n",
       "        vertical-align: top;\n",
       "    }\n",
       "\n",
       "    .dataframe thead th {\n",
       "        text-align: right;\n",
       "    }\n",
       "</style>\n",
       "<table border=\"1\" class=\"dataframe\">\n",
       "  <thead>\n",
       "    <tr style=\"text-align: right;\">\n",
       "      <th></th>\n",
       "      <th>Actor</th>\n",
       "      <th>Promedio_Valoracion</th>\n",
       "    </tr>\n",
       "  </thead>\n",
       "  <tbody>\n",
       "    <tr>\n",
       "      <th>1669</th>\n",
       "      <td>Ami Koshimizu</td>\n",
       "      <td>3.650000</td>\n",
       "    </tr>\n",
       "    <tr>\n",
       "      <th>2019</th>\n",
       "      <td>Sushmita Mukherjee</td>\n",
       "      <td>3.640000</td>\n",
       "    </tr>\n",
       "    <tr>\n",
       "      <th>1573</th>\n",
       "      <td>Hirotaka Suzuoki</td>\n",
       "      <td>3.633333</td>\n",
       "    </tr>\n",
       "    <tr>\n",
       "      <th>1775</th>\n",
       "      <td>Ben Barnes</td>\n",
       "      <td>3.625000</td>\n",
       "    </tr>\n",
       "    <tr>\n",
       "      <th>1337</th>\n",
       "      <td>Kishore</td>\n",
       "      <td>3.620000</td>\n",
       "    </tr>\n",
       "  </tbody>\n",
       "</table>\n",
       "</div>"
      ],
      "text/plain": [
       "                   Actor  Promedio_Valoracion\n",
       "1669       Ami Koshimizu             3.650000\n",
       "2019  Sushmita Mukherjee             3.640000\n",
       "1573    Hirotaka Suzuoki             3.633333\n",
       "1775          Ben Barnes             3.625000\n",
       "1337             Kishore             3.620000"
      ]
     },
     "execution_count": 13,
     "metadata": {},
     "output_type": "execute_result"
    },
    {
     "data": {
      "image/png": "[encoded data removed]",
      "text/plain": [
       "<Figure size 864x360 with 1 Axes>"
      ]
     },
     "metadata": {
      "needs_background": "light"
     },
     "output_type": "display_data"
    }
   ],
   "source": [
    "#Grafica \n",
    "fig, ax = plt.subplots(figsize=(12,5))\n",
    "\n",
    "top_prom_act = prom_act.nlargest(5, \"Promedio_Valoracion\")\n",
    "ax.bar(top_prom_act.Actor, top_prom_act.Promedio_Valoracion)\n",
    "ax.set_title(\"Top Valoraciones por Actor\")\n",
    "ax.set_ylim([3.5, 3.7])\n",
    "\n",
    "prom_act.nlargest(5, \"Promedio_Valoracion\")"
   ]
  },
  {
   "attachments": {},
   "cell_type": "markdown",
   "metadata": {},
   "source": [
    "### **EDA-GENERO**"
   ]
  },
  {
   "attachments": {},
   "cell_type": "markdown",
   "metadata": {},
   "source": [
    "_Arreglo de datos_"
   ]
  },
  {
   "cell_type": "code",
   "execution_count": 14,
   "metadata": {},
   "outputs": [],
   "source": [
    "#Los datos cambian de tipo con la exportacion a CSV por lo que tenemos que corregirlo\n",
    "data.listed_in = data.listed_in.apply(eval)"
   ]
  },
  {
   "cell_type": "code",
   "execution_count": 42,
   "metadata": {},
   "outputs": [],
   "source": [
    "# convertir la columna 'listed_in' en una lista plana de generos\n",
    "lista_generos = data['listed_in'].explode().reset_index(drop=True)\n",
    "\n",
    "# contar cuántas veces se repite cada nombre de actor\n",
    "conteo_generos = lista_generos.value_counts().reset_index()\n",
    "conteo_generos = conteo_generos.drop(index=0, axis=0)"
   ]
  },
  {
   "cell_type": "code",
   "execution_count": 16,
   "metadata": {},
   "outputs": [],
   "source": [
    "generos_filtrados = conteo_generos.loc[conteo_generos.listed_in > 5] #generos con mas de 5 registros\n",
    "data_r = data.loc[data.Valoraciones > data.Valoraciones.mean()] #Registros con Numero de Valoraciones encima del promedio\n",
    "\n",
    "#Llevamos los datos a un Dataframe\n",
    "gen = []\n",
    "prom = []\n",
    "\n",
    "for i in generos_filtrados[\"index\"]:\n",
    "    filtro = data_r['listed_in'].apply(lambda x: i in x)\n",
    "    promedio = data_r[filtro].Promedio_Valoraciones.mean()\n",
    "    gen.append(i)\n",
    "    prom.append(promedio)\n",
    "    \n",
    "prom_gen = pd.DataFrame({\"Genero\" : gen, \"Promedio_Valoracion\" : prom})"
   ]
  },
  {
   "attachments": {},
   "cell_type": "markdown",
   "metadata": {},
   "source": [
    "**TOP 5 GENEROS CON MAYOR NUMERO DE VALORACIONES**"
   ]
  },
  {
   "cell_type": "code",
   "execution_count": 17,
   "metadata": {},
   "outputs": [
    {
     "data": {
      "text/html": [
       "<div>\n",
       "<style scoped>\n",
       "    .dataframe tbody tr th:only-of-type {\n",
       "        vertical-align: middle;\n",
       "    }\n",
       "\n",
       "    .dataframe tbody tr th {\n",
       "        vertical-align: top;\n",
       "    }\n",
       "\n",
       "    .dataframe thead th {\n",
       "        text-align: right;\n",
       "    }\n",
       "</style>\n",
       "<table border=\"1\" class=\"dataframe\">\n",
       "  <thead>\n",
       "    <tr style=\"text-align: right;\">\n",
       "      <th></th>\n",
       "      <th>index</th>\n",
       "      <th>listed_in</th>\n",
       "    </tr>\n",
       "  </thead>\n",
       "  <tbody>\n",
       "    <tr>\n",
       "      <th>1</th>\n",
       "      <td>Comedy</td>\n",
       "      <td>2925</td>\n",
       "    </tr>\n",
       "    <tr>\n",
       "      <th>2</th>\n",
       "      <td>International Movies</td>\n",
       "      <td>2674</td>\n",
       "    </tr>\n",
       "    <tr>\n",
       "      <th>3</th>\n",
       "      <td>Dramas</td>\n",
       "      <td>2402</td>\n",
       "    </tr>\n",
       "    <tr>\n",
       "      <th>4</th>\n",
       "      <td>Action</td>\n",
       "      <td>2116</td>\n",
       "    </tr>\n",
       "    <tr>\n",
       "      <th>5</th>\n",
       "      <td>Comedies</td>\n",
       "      <td>1624</td>\n",
       "    </tr>\n",
       "  </tbody>\n",
       "</table>\n",
       "</div>"
      ],
      "text/plain": [
       "                  index  listed_in\n",
       "1                Comedy       2925\n",
       "2  International Movies       2674\n",
       "3                Dramas       2402\n",
       "4                Action       2116\n",
       "5              Comedies       1624"
      ]
     },
     "execution_count": 17,
     "metadata": {},
     "output_type": "execute_result"
    },
    {
     "data": {
      "image/png": "[encoded data removed]",
      "text/plain": [
       "<Figure size 864x360 with 1 Axes>"
      ]
     },
     "metadata": {
      "needs_background": "light"
     },
     "output_type": "display_data"
    }
   ],
   "source": [
    "#Grafica \n",
    "fig, ax = plt.subplots(figsize=(12,5))\n",
    "\n",
    "top_conteo_generos = conteo_generos.nlargest(5, \"listed_in\")\n",
    "ax.bar(top_conteo_generos[\"index\"], top_conteo_generos.listed_in)\n",
    "ax.set_title(\"Top Valoraciones por Genero\")\n",
    "\n",
    "top_conteo_generos"
   ]
  },
  {
   "attachments": {},
   "cell_type": "markdown",
   "metadata": {},
   "source": [
    "**TOP 5 GENERO CON MAYOR PROMEDIO DE VALORACIONES**"
   ]
  },
  {
   "cell_type": "code",
   "execution_count": 18,
   "metadata": {},
   "outputs": [
    {
     "data": {
      "text/html": [
       "<div>\n",
       "<style scoped>\n",
       "    .dataframe tbody tr th:only-of-type {\n",
       "        vertical-align: middle;\n",
       "    }\n",
       "\n",
       "    .dataframe tbody tr th {\n",
       "        vertical-align: top;\n",
       "    }\n",
       "\n",
       "    .dataframe thead th {\n",
       "        text-align: right;\n",
       "    }\n",
       "</style>\n",
       "<table border=\"1\" class=\"dataframe\">\n",
       "  <thead>\n",
       "    <tr style=\"text-align: right;\">\n",
       "      <th></th>\n",
       "      <th>Genero</th>\n",
       "      <th>Promedio_Valoracion</th>\n",
       "    </tr>\n",
       "  </thead>\n",
       "  <tbody>\n",
       "    <tr>\n",
       "      <th>100</th>\n",
       "      <td>Survival</td>\n",
       "      <td>3.575000</td>\n",
       "    </tr>\n",
       "    <tr>\n",
       "      <th>99</th>\n",
       "      <td>Game Show / Competition</td>\n",
       "      <td>3.566667</td>\n",
       "    </tr>\n",
       "    <tr>\n",
       "      <th>103</th>\n",
       "      <td>Variety</td>\n",
       "      <td>3.566667</td>\n",
       "    </tr>\n",
       "    <tr>\n",
       "      <th>84</th>\n",
       "      <td>Adult Animation</td>\n",
       "      <td>3.552632</td>\n",
       "    </tr>\n",
       "    <tr>\n",
       "      <th>97</th>\n",
       "      <td>Fitness</td>\n",
       "      <td>3.550000</td>\n",
       "    </tr>\n",
       "  </tbody>\n",
       "</table>\n",
       "</div>"
      ],
      "text/plain": [
       "                      Genero  Promedio_Valoracion\n",
       "100                 Survival             3.575000\n",
       "99   Game Show / Competition             3.566667\n",
       "103                  Variety             3.566667\n",
       "84           Adult Animation             3.552632\n",
       "97                   Fitness             3.550000"
      ]
     },
     "execution_count": 18,
     "metadata": {},
     "output_type": "execute_result"
    },
    {
     "data": {
      "image/png": "[encoded data removed]",
      "text/plain": [
       "<Figure size 864x360 with 1 Axes>"
      ]
     },
     "metadata": {
      "needs_background": "light"
     },
     "output_type": "display_data"
    }
   ],
   "source": [
    "#Grafica \n",
    "fig, ax = plt.subplots(figsize=(12,5))\n",
    "\n",
    "top_prom_gen = prom_gen.nlargest(5, \"Promedio_Valoracion\")\n",
    "ax.bar(top_prom_gen.Genero, top_prom_gen.Promedio_Valoracion)\n",
    "ax.set_title(\"Top Valoraciones por Genero\")\n",
    "ax.set_ylim([3.5, 3.7])\n",
    "\n",
    "prom_gen.nlargest(5, \"Promedio_Valoracion\")"
   ]
  },
  {
   "attachments": {},
   "cell_type": "markdown",
   "metadata": {},
   "source": [
    "### **Heatmap**"
   ]
  },
  {
   "cell_type": "code",
   "execution_count": 40,
   "metadata": {},
   "outputs": [
    {
     "name": "stderr",
     "output_type": "stream",
     "text": [
      "C:\\Users\\Ale\\AppData\\Local\\Temp/ipykernel_9392/1369872228.py:5: FutureWarning: The default value of numeric_only in DataFrame.corr is deprecated. In a future version, it will default to False. Select only valid columns or specify the value of numeric_only to silence this warning.\n",
      "  corr = df_notnull.corr()\n"
     ]
    },
    {
     "data": {
      "text/html": [
       "<div>\n",
       "<style scoped>\n",
       "    .dataframe tbody tr th:only-of-type {\n",
       "        vertical-align: middle;\n",
       "    }\n",
       "\n",
       "    .dataframe tbody tr th {\n",
       "        vertical-align: top;\n",
       "    }\n",
       "\n",
       "    .dataframe thead th {\n",
       "        text-align: right;\n",
       "    }\n",
       "</style>\n",
       "<table border=\"1\" class=\"dataframe\">\n",
       "  <thead>\n",
       "    <tr style=\"text-align: right;\">\n",
       "      <th></th>\n",
       "      <th>release_year</th>\n",
       "      <th>duration_int</th>\n",
       "      <th>Valoraciones</th>\n",
       "      <th>Promedio_Valoraciones</th>\n",
       "    </tr>\n",
       "  </thead>\n",
       "  <tbody>\n",
       "    <tr>\n",
       "      <th>release_year</th>\n",
       "      <td>1.000000</td>\n",
       "      <td>-0.151000</td>\n",
       "      <td>-0.003526</td>\n",
       "      <td>0.016956</td>\n",
       "    </tr>\n",
       "    <tr>\n",
       "      <th>duration_int</th>\n",
       "      <td>-0.151000</td>\n",
       "      <td>1.000000</td>\n",
       "      <td>0.006615</td>\n",
       "      <td>-0.002981</td>\n",
       "    </tr>\n",
       "    <tr>\n",
       "      <th>Valoraciones</th>\n",
       "      <td>-0.003526</td>\n",
       "      <td>0.006615</td>\n",
       "      <td>1.000000</td>\n",
       "      <td>0.001480</td>\n",
       "    </tr>\n",
       "    <tr>\n",
       "      <th>Promedio_Valoraciones</th>\n",
       "      <td>0.016956</td>\n",
       "      <td>-0.002981</td>\n",
       "      <td>0.001480</td>\n",
       "      <td>1.000000</td>\n",
       "    </tr>\n",
       "  </tbody>\n",
       "</table>\n",
       "</div>"
      ],
      "text/plain": [
       "                       release_year  duration_int  Valoraciones  \\\n",
       "release_year               1.000000     -0.151000     -0.003526   \n",
       "duration_int              -0.151000      1.000000      0.006615   \n",
       "Valoraciones              -0.003526      0.006615      1.000000   \n",
       "Promedio_Valoraciones      0.016956     -0.002981      0.001480   \n",
       "\n",
       "                       Promedio_Valoraciones  \n",
       "release_year                        0.016956  \n",
       "duration_int                       -0.002981  \n",
       "Valoraciones                        0.001480  \n",
       "Promedio_Valoraciones               1.000000  "
      ]
     },
     "execution_count": 40,
     "metadata": {},
     "output_type": "execute_result"
    },
    {
     "data": {
      "image/png": "[encoded data removed]",
      "text/plain": [
       "<Figure size 1080x1080 with 2 Axes>"
      ]
     },
     "metadata": {
      "needs_background": "light"
     },
     "output_type": "display_data"
    }
   ],
   "source": [
    "# Realizamos el mapa de calor para ver la correlación entre las variables\n",
    "df = data\n",
    "df_notnull = df[df.notnull().all(axis=1)]\n",
    "\n",
    "corr = df_notnull.corr()\n",
    "plt.figure(figsize=(15,15))\n",
    "sns.heatmap(corr, fmt= '.2f',annot_kws={'size': 15},\n",
    ")\n",
    "corr"
   ]
  }
 ],
 "metadata": {
  "kernelspec": {
   "display_name": "base",
   "language": "python",
   "name": "python3"
  },
  "language_info": {
   "codemirror_mode": {
    "name": "ipython",
    "version": 3
   },
   "file_extension": ".py",
   "mimetype": "text/x-python",
   "name": "python",
   "nbconvert_exporter": "python",
   "pygments_lexer": "ipython3",
   "version": "3.9.7"
  },
  "orig_nbformat": 4,
  "vscode": {
   "interpreter": {
    "hash": "8347626938f0c92124cdd47ea83c678aa811759c184b91c50a888eac869421fd"
   }
  }
 },
 "nbformat": 4,
 "nbformat_minor": 2
}
