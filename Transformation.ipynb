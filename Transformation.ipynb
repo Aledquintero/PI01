{
 "cells": [
  {
   "attachments": {},
   "cell_type": "markdown",
   "metadata": {},
   "source": [
    "**Importación de librerias**"
   ]
  },
  {
   "cell_type": "code",
   "execution_count": 1,
   "metadata": {},
   "outputs": [],
   "source": [
    "import pandas as pd\n",
    "import numpy as np"
   ]
  },
  {
   "attachments": {},
   "cell_type": "markdown",
   "metadata": {},
   "source": [
    "**Lectura de datos**"
   ]
  },
  {
   "cell_type": "code",
   "execution_count": 17,
   "metadata": {},
   "outputs": [
    {
     "data": {
      "text/html": [
       "<div>\n",
       "<style scoped>\n",
       "    .dataframe tbody tr th:only-of-type {\n",
       "        vertical-align: middle;\n",
       "    }\n",
       "\n",
       "    .dataframe tbody tr th {\n",
       "        vertical-align: top;\n",
       "    }\n",
       "\n",
       "    .dataframe thead th {\n",
       "        text-align: right;\n",
       "    }\n",
       "</style>\n",
       "<table border=\"1\" class=\"dataframe\">\n",
       "  <thead>\n",
       "    <tr style=\"text-align: right;\">\n",
       "      <th></th>\n",
       "      <th>show_id</th>\n",
       "      <th>type</th>\n",
       "      <th>title</th>\n",
       "      <th>director</th>\n",
       "      <th>cast</th>\n",
       "      <th>country</th>\n",
       "      <th>date_added</th>\n",
       "      <th>release_year</th>\n",
       "      <th>rating</th>\n",
       "      <th>duration</th>\n",
       "      <th>listed_in</th>\n",
       "      <th>description</th>\n",
       "      <th>Valoraciones</th>\n",
       "      <th>Promedio_Valoraciones</th>\n",
       "    </tr>\n",
       "  </thead>\n",
       "  <tbody>\n",
       "    <tr>\n",
       "      <th>0</th>\n",
       "      <td>as7362</td>\n",
       "      <td>Movie</td>\n",
       "      <td>Drunk, Stoned, Brilliant, Dead: The Story of t...</td>\n",
       "      <td>Douglas Tirola</td>\n",
       "      <td>Chevy Chase, Judd Apatow, Henry Beard, PJ O’Ro...</td>\n",
       "      <td>NaN</td>\n",
       "      <td>NaN</td>\n",
       "      <td>2015</td>\n",
       "      <td>R</td>\n",
       "      <td>95 min</td>\n",
       "      <td>Documentary</td>\n",
       "      <td>From 1970s-1990s, the hippest and most outrage...</td>\n",
       "      <td>469</td>\n",
       "      <td>3.7</td>\n",
       "    </tr>\n",
       "    <tr>\n",
       "      <th>1</th>\n",
       "      <td>ns3234</td>\n",
       "      <td>Movie</td>\n",
       "      <td>Pranaam</td>\n",
       "      <td>Sanjiv Jaiswal</td>\n",
       "      <td>Rajeev Khandelwal, Samiksha Singh, S.M. Zaheer...</td>\n",
       "      <td>India</td>\n",
       "      <td>November 25, 2019</td>\n",
       "      <td>2019</td>\n",
       "      <td>TV-14</td>\n",
       "      <td>117 min</td>\n",
       "      <td>Action &amp; Adventure, Dramas, International Movies</td>\n",
       "      <td>Aspiring to fulfill his father’s dream and bec...</td>\n",
       "      <td>490</td>\n",
       "      <td>3.7</td>\n",
       "    </tr>\n",
       "  </tbody>\n",
       "</table>\n",
       "</div>"
      ],
      "text/plain": [
       "  show_id   type                                              title  \\\n",
       "0  as7362  Movie  Drunk, Stoned, Brilliant, Dead: The Story of t...   \n",
       "1  ns3234  Movie                                            Pranaam   \n",
       "\n",
       "         director                                               cast country  \\\n",
       "0  Douglas Tirola  Chevy Chase, Judd Apatow, Henry Beard, PJ O’Ro...     NaN   \n",
       "1  Sanjiv Jaiswal  Rajeev Khandelwal, Samiksha Singh, S.M. Zaheer...   India   \n",
       "\n",
       "          date_added  release_year rating duration  \\\n",
       "0                NaN          2015      R   95 min   \n",
       "1  November 25, 2019          2019  TV-14  117 min   \n",
       "\n",
       "                                          listed_in  \\\n",
       "0                                       Documentary   \n",
       "1  Action & Adventure, Dramas, International Movies   \n",
       "\n",
       "                                         description  Valoraciones  \\\n",
       "0  From 1970s-1990s, the hippest and most outrage...           469   \n",
       "1  Aspiring to fulfill his father’s dream and bec...           490   \n",
       "\n",
       "   Promedio_Valoraciones  \n",
       "0                    3.7  \n",
       "1                    3.7  "
      ]
     },
     "execution_count": 17,
     "metadata": {},
     "output_type": "execute_result"
    }
   ],
   "source": [
    "data = pd.read_csv('Raw/data_raw.csv')\n",
    "data.head(2)"
   ]
  },
  {
   "attachments": {},
   "cell_type": "markdown",
   "metadata": {},
   "source": [
    "### **Fechas***"
   ]
  },
  {
   "attachments": {},
   "cell_type": "markdown",
   "metadata": {},
   "source": [
    "Segun la consigna formateamos las fechas"
   ]
  },
  {
   "cell_type": "code",
   "execution_count": 3,
   "metadata": {},
   "outputs": [],
   "source": [
    "#Eliminamos los espacios en blanco que pueden haber al inicio o final de la fecha\n",
    "data['date_added'] = data['date_added'].str.strip()\n",
    "#Normalizo el formato de las fechas: \n",
    "data[\"date_added\"] = pd.to_datetime(data[\"date_added\"], format='%B %d, %Y')"
   ]
  },
  {
   "attachments": {},
   "cell_type": "markdown",
   "metadata": {},
   "source": [
    "### **Nulos**"
   ]
  },
  {
   "attachments": {},
   "cell_type": "markdown",
   "metadata": {},
   "source": [
    "Cambiamos los nulos por 'None' para evitar problemas futuros en el modelo de machine learning"
   ]
  },
  {
   "cell_type": "code",
   "execution_count": 4,
   "metadata": {},
   "outputs": [],
   "source": [
    "# Eliminar los registros con valores nulos en la columna 'mi_columna'\n",
    "data = data.dropna(subset=['title'])"
   ]
  },
  {
   "cell_type": "code",
   "execution_count": 5,
   "metadata": {},
   "outputs": [],
   "source": [
    "#Cambiamos nulos por \"None\"\n",
    "data = data.fillna(\"None\")"
   ]
  },
  {
   "cell_type": "code",
   "execution_count": 6,
   "metadata": {},
   "outputs": [],
   "source": [
    "#resolvemos los valores nulos de director\n",
    "data.director = data.director.replace(\"1\", \"None\")"
   ]
  },
  {
   "attachments": {},
   "cell_type": "markdown",
   "metadata": {},
   "source": [
    "### **Rating***"
   ]
  },
  {
   "attachments": {},
   "cell_type": "markdown",
   "metadata": {},
   "source": [
    "-En la columna rating existian datos que correspondian a duration por lo cual los cambiamos\n",
    "\n",
    "-Segun la consigna estandarizamos todos los ratings nulos a el string 'G'"
   ]
  },
  {
   "cell_type": "code",
   "execution_count": 7,
   "metadata": {},
   "outputs": [
    {
     "name": "stderr",
     "output_type": "stream",
     "text": [
      "C:\\Users\\Ale\\AppData\\Local\\Temp/ipykernel_16316/230770865.py:10: SettingWithCopyWarning: \n",
      "A value is trying to be set on a copy of a slice from a DataFrame\n",
      "\n",
      "See the caveats in the documentation: https://pandas.pydata.org/pandas-docs/stable/user_guide/indexing.html#returning-a-view-versus-a-copy\n",
      "  data[\"duration\"].loc[filtrado_i] = data[\"rating\"].loc[filtrado_i]\n"
     ]
    }
   ],
   "source": [
    "#Filtramos los indices de datos desplazados que corresponden a duration pero se encuentran en rating\n",
    "lst = [str(i) for i in data.rating.unique()]\n",
    "elementos_filtrados = [elemento for elemento in lst if \"min\" in elemento or \"Season\" in elemento]\n",
    "\n",
    "filtrado = data.loc[data.rating.isin(elementos_filtrados)]\n",
    "\n",
    "filtrado_i = list(filtrado.index)\n",
    "\n",
    "#Arreglamos los datos desplazados que corresponden a duration pero se encuentran en rating\n",
    "data[\"duration\"].loc[filtrado_i] = data[\"rating\"].loc[filtrado_i]\n",
    "data[\"rating\"] = data[\"rating\"].drop(index = filtrado_i)\n",
    "\n",
    "#Estandarizamos todos los valores nulos por el valor G\n",
    "e_nulas = [\"NR\", \"None\", \"UNRATED\", \"NOT_RATE\", \"TV-NR\", \"NOT RATED\", \"UR\", np.nan]\n",
    "data.rating = data.rating.replace(e_nulas, \"G\")\n"
   ]
  },
  {
   "attachments": {},
   "cell_type": "markdown",
   "metadata": {},
   "source": [
    "### **Duracion***"
   ]
  },
  {
   "attachments": {},
   "cell_type": "markdown",
   "metadata": {},
   "source": [
    "Cumpliendo la consigna separamos la columna 'duration' en dos columnas, una con los datos numericos y la otra con el tipo de duracion"
   ]
  },
  {
   "cell_type": "code",
   "execution_count": 8,
   "metadata": {},
   "outputs": [
    {
     "data": {
      "text/html": [
       "<div>\n",
       "<style scoped>\n",
       "    .dataframe tbody tr th:only-of-type {\n",
       "        vertical-align: middle;\n",
       "    }\n",
       "\n",
       "    .dataframe tbody tr th {\n",
       "        vertical-align: top;\n",
       "    }\n",
       "\n",
       "    .dataframe thead th {\n",
       "        text-align: right;\n",
       "    }\n",
       "</style>\n",
       "<table border=\"1\" class=\"dataframe\">\n",
       "  <thead>\n",
       "    <tr style=\"text-align: right;\">\n",
       "      <th></th>\n",
       "      <th>show_id</th>\n",
       "      <th>type</th>\n",
       "      <th>title</th>\n",
       "      <th>director</th>\n",
       "      <th>cast</th>\n",
       "      <th>country</th>\n",
       "      <th>date_added</th>\n",
       "      <th>release_year</th>\n",
       "      <th>rating</th>\n",
       "      <th>listed_in</th>\n",
       "      <th>description</th>\n",
       "      <th>Valoraciones</th>\n",
       "      <th>Promedio_Valoraciones</th>\n",
       "      <th>duration_int</th>\n",
       "      <th>duration_type</th>\n",
       "    </tr>\n",
       "  </thead>\n",
       "  <tbody>\n",
       "    <tr>\n",
       "      <th>0</th>\n",
       "      <td>as7362</td>\n",
       "      <td>Movie</td>\n",
       "      <td>Drunk, Stoned, Brilliant, Dead: The Story of t...</td>\n",
       "      <td>Douglas Tirola</td>\n",
       "      <td>Chevy Chase, Judd Apatow, Henry Beard, PJ O’Ro...</td>\n",
       "      <td>None</td>\n",
       "      <td>None</td>\n",
       "      <td>2015</td>\n",
       "      <td>R</td>\n",
       "      <td>Documentary</td>\n",
       "      <td>From 1970s-1990s, the hippest and most outrage...</td>\n",
       "      <td>469</td>\n",
       "      <td>3.7</td>\n",
       "      <td>95</td>\n",
       "      <td>min</td>\n",
       "    </tr>\n",
       "  </tbody>\n",
       "</table>\n",
       "</div>"
      ],
      "text/plain": [
       "  show_id   type                                              title  \\\n",
       "0  as7362  Movie  Drunk, Stoned, Brilliant, Dead: The Story of t...   \n",
       "\n",
       "         director                                               cast country  \\\n",
       "0  Douglas Tirola  Chevy Chase, Judd Apatow, Henry Beard, PJ O’Ro...    None   \n",
       "\n",
       "  date_added  release_year rating    listed_in  \\\n",
       "0       None          2015      R  Documentary   \n",
       "\n",
       "                                         description  Valoraciones  \\\n",
       "0  From 1970s-1990s, the hippest and most outrage...           469   \n",
       "\n",
       "   Promedio_Valoraciones duration_int duration_type  \n",
       "0                    3.7           95           min  "
      ]
     },
     "execution_count": 8,
     "metadata": {},
     "output_type": "execute_result"
    }
   ],
   "source": [
    "#Creamos la columna duration_int y duration_type\n",
    "data[\"duration_int\"] = data.duration\n",
    "data[\"duration_type\"] = data.duration\n",
    "data.duration_int = data.duration_int.replace('[^0-9]', '', regex=True)\n",
    "data.duration_type = data.duration_type.replace('\\d', '', regex=True)\n",
    "\n",
    "#Eliminamos la columna duration original\n",
    "data = data.drop(\"duration\", axis=1)\n",
    "\n",
    "data.head(1)"
   ]
  },
  {
   "attachments": {},
   "cell_type": "markdown",
   "metadata": {},
   "source": [
    "Convertimos los tipos de datos a los mas conveniente y aprovechamos para hacerlo en todo el dataframe"
   ]
  },
  {
   "cell_type": "code",
   "execution_count": 9,
   "metadata": {},
   "outputs": [
    {
     "data": {
      "text/plain": [
       "show_id                   string\n",
       "type                      string\n",
       "title                     string\n",
       "director                  string\n",
       "cast                      object\n",
       "country                   string\n",
       "date_added                object\n",
       "release_year               Int64\n",
       "rating                    string\n",
       "listed_in                 string\n",
       "description               string\n",
       "Valoraciones               Int64\n",
       "Promedio_Valoraciones    Float64\n",
       "duration_int               int32\n",
       "duration_type             string\n",
       "dtype: object"
      ]
     },
     "execution_count": 9,
     "metadata": {},
     "output_type": "execute_result"
    }
   ],
   "source": [
    "#Acomodamos los tipos de datos correctos para cada columna\n",
    "data = data.convert_dtypes()\n",
    "data[\"duration_int\"] = data[\"duration_int\"].replace([\"None\", \"\"], \"0\")\n",
    "data[\"duration_int\"] = data[\"duration_int\"].astype(int)\n",
    "data[\"cast\"] = data[\"cast\"].astype(object)\n",
    "\n",
    "data.dtypes"
   ]
  },
  {
   "attachments": {},
   "cell_type": "markdown",
   "metadata": {},
   "source": [
    "Dividimos los datos entre peliculas y series, tambien tomamos las peliculas que tenian \"Season\" y las cambiamos por la cateoria 'TV Show'"
   ]
  },
  {
   "cell_type": "code",
   "execution_count": 10,
   "metadata": {},
   "outputs": [],
   "source": [
    "#eliminamos los espacios sobrantes y dividimos los datos entre peliculas y series\n",
    "data['duration_type'] = data['duration_type'].str.strip()\n",
    "series = data.loc[data.type == \"TV Show\"]\n",
    "movies = data.loc[data.type == \"Movie\"]\n",
    "\n",
    "#Buscamos las peliculas que tienen Season en duration_type y le cambiamos su etiqueta type\n",
    "fake_movies = movies.loc[movies.duration_type.isin([\"Season\", \"Seasons\"])].index\n",
    "data.type.loc[fake_movies] = data.type.loc[fake_movies].replace(\"Movie\", \"TV Show\")"
   ]
  },
  {
   "attachments": {},
   "cell_type": "markdown",
   "metadata": {},
   "source": [
    "Aqui filtramos los datos de peliculas, reduciendolos solo a largometrajes (+60min) y creamos dos columnas categoricas binarias en base a la media de la duracion y la antiguedad"
   ]
  },
  {
   "cell_type": "code",
   "execution_count": 11,
   "metadata": {},
   "outputs": [
    {
     "name": "stderr",
     "output_type": "stream",
     "text": [
      "C:\\Users\\Ale\\AppData\\Local\\Temp/ipykernel_16316/4093207900.py:6: SettingWithCopyWarning: \n",
      "A value is trying to be set on a copy of a slice from a DataFrame.\n",
      "Try using .loc[row_indexer,col_indexer] = value instead\n",
      "\n",
      "See the caveats in the documentation: https://pandas.pydata.org/pandas-docs/stable/user_guide/indexing.html#returning-a-view-versus-a-copy\n",
      "  series[\"duration_category\"] = np.where(series.duration_int <= series.duration_int.mean(), \"Corta\", \"Larga\")\n",
      "C:\\Users\\Ale\\AppData\\Local\\Temp/ipykernel_16316/4093207900.py:10: SettingWithCopyWarning: \n",
      "A value is trying to be set on a copy of a slice from a DataFrame.\n",
      "Try using .loc[row_indexer,col_indexer] = value instead\n",
      "\n",
      "See the caveats in the documentation: https://pandas.pydata.org/pandas-docs/stable/user_guide/indexing.html#returning-a-view-versus-a-copy\n",
      "  series[\"antiquity_category\"] = np.where(series.release_year <= 2018, \"Vieja\", \"Nueva\")\n"
     ]
    }
   ],
   "source": [
    "#Consideramos como largometrajes solo los titulos con mas de 60 min\n",
    "movies = movies.loc[data.duration_int >= 60]\n",
    "\n",
    "#Creamos una columna de clasificacion para saber si el titulo es Corto o Largo en duración\n",
    "movies[\"duration_category\"] = np.where(movies.duration_int <= movies.duration_int.mean(), \"Corta\", \"Larga\")\n",
    "series[\"duration_category\"] = np.where(series.duration_int <= series.duration_int.mean(), \"Corta\", \"Larga\")\n",
    "\n",
    "#Creamos una columna de clasificacion para saber si el titulo tiene mas o menos de 5 años\n",
    "movies[\"antiquity_category\"] = np.where(movies.release_year <= 2018, \"Vieja\", \"Nueva\")\n",
    "series[\"antiquity_category\"] = np.where(series.release_year <= 2018, \"Vieja\", \"Nueva\")\n",
    "\n",
    "#Unimos los datasets\n",
    "data = pd.concat([movies, series])"
   ]
  },
  {
   "attachments": {},
   "cell_type": "markdown",
   "metadata": {},
   "source": [
    "Estandarizamos el tipo de duracion 'Season'"
   ]
  },
  {
   "cell_type": "code",
   "execution_count": 12,
   "metadata": {},
   "outputs": [],
   "source": [
    "#Establecemos solo dos valores para duration_type\n",
    "data.duration_type = data.duration_type.replace('Seasons', 'Season', regex=True)"
   ]
  },
  {
   "attachments": {},
   "cell_type": "markdown",
   "metadata": {},
   "source": [
    "### **Actores y Generos**"
   ]
  },
  {
   "attachments": {},
   "cell_type": "markdown",
   "metadata": {},
   "source": [
    "Transformacion de las columnas con varios elementos de string a datos de tipo lista"
   ]
  },
  {
   "cell_type": "code",
   "execution_count": 18,
   "metadata": {},
   "outputs": [
    {
     "data": {
      "text/html": [
       "<div>\n",
       "<style scoped>\n",
       "    .dataframe tbody tr th:only-of-type {\n",
       "        vertical-align: middle;\n",
       "    }\n",
       "\n",
       "    .dataframe tbody tr th {\n",
       "        vertical-align: top;\n",
       "    }\n",
       "\n",
       "    .dataframe thead th {\n",
       "        text-align: right;\n",
       "    }\n",
       "</style>\n",
       "<table border=\"1\" class=\"dataframe\">\n",
       "  <thead>\n",
       "    <tr style=\"text-align: right;\">\n",
       "      <th></th>\n",
       "      <th>show_id</th>\n",
       "      <th>type</th>\n",
       "      <th>title</th>\n",
       "      <th>director</th>\n",
       "      <th>cast</th>\n",
       "      <th>country</th>\n",
       "      <th>date_added</th>\n",
       "      <th>release_year</th>\n",
       "      <th>rating</th>\n",
       "      <th>duration</th>\n",
       "      <th>listed_in</th>\n",
       "      <th>description</th>\n",
       "      <th>Valoraciones</th>\n",
       "      <th>Promedio_Valoraciones</th>\n",
       "    </tr>\n",
       "  </thead>\n",
       "  <tbody>\n",
       "    <tr>\n",
       "      <th>0</th>\n",
       "      <td>as7362</td>\n",
       "      <td>Movie</td>\n",
       "      <td>Drunk, Stoned, Brilliant, Dead: The Story of t...</td>\n",
       "      <td>Douglas Tirola</td>\n",
       "      <td>[Chevy Chase, Judd Apatow, Henry Beard, PJ O’R...</td>\n",
       "      <td>NaN</td>\n",
       "      <td>NaN</td>\n",
       "      <td>2015</td>\n",
       "      <td>R</td>\n",
       "      <td>95 min</td>\n",
       "      <td>[Documentary]</td>\n",
       "      <td>From 1970s-1990s, the hippest and most outrage...</td>\n",
       "      <td>469</td>\n",
       "      <td>3.7</td>\n",
       "    </tr>\n",
       "    <tr>\n",
       "      <th>1</th>\n",
       "      <td>ns3234</td>\n",
       "      <td>Movie</td>\n",
       "      <td>Pranaam</td>\n",
       "      <td>Sanjiv Jaiswal</td>\n",
       "      <td>[Rajeev Khandelwal, Samiksha Singh, S.M. Zahee...</td>\n",
       "      <td>India</td>\n",
       "      <td>November 25, 2019</td>\n",
       "      <td>2019</td>\n",
       "      <td>TV-14</td>\n",
       "      <td>117 min</td>\n",
       "      <td>[Action &amp; Adventure, Dramas, International Mov...</td>\n",
       "      <td>Aspiring to fulfill his father’s dream and bec...</td>\n",
       "      <td>490</td>\n",
       "      <td>3.7</td>\n",
       "    </tr>\n",
       "  </tbody>\n",
       "</table>\n",
       "</div>"
      ],
      "text/plain": [
       "  show_id   type                                              title  \\\n",
       "0  as7362  Movie  Drunk, Stoned, Brilliant, Dead: The Story of t...   \n",
       "1  ns3234  Movie                                            Pranaam   \n",
       "\n",
       "         director                                               cast country  \\\n",
       "0  Douglas Tirola  [Chevy Chase, Judd Apatow, Henry Beard, PJ O’R...     NaN   \n",
       "1  Sanjiv Jaiswal  [Rajeev Khandelwal, Samiksha Singh, S.M. Zahee...   India   \n",
       "\n",
       "          date_added  release_year rating duration  \\\n",
       "0                NaN          2015      R   95 min   \n",
       "1  November 25, 2019          2019  TV-14  117 min   \n",
       "\n",
       "                                           listed_in  \\\n",
       "0                                      [Documentary]   \n",
       "1  [Action & Adventure, Dramas, International Mov...   \n",
       "\n",
       "                                         description  Valoraciones  \\\n",
       "0  From 1970s-1990s, the hippest and most outrage...           469   \n",
       "1  Aspiring to fulfill his father’s dream and bec...           490   \n",
       "\n",
       "   Promedio_Valoraciones  \n",
       "0                    3.7  \n",
       "1                    3.7  "
      ]
     },
     "execution_count": 18,
     "metadata": {},
     "output_type": "execute_result"
    }
   ],
   "source": [
    "#Separamos el casting para poder manipular cada actor independientemente\n",
    "data.cast = data.cast.fillna(\"\")\n",
    "data.cast = data.cast.apply(lambda x: x.split(\", \"))\n",
    "\n",
    "data.listed_in = data.listed_in.fillna(\"\")\n",
    "data.listed_in = data.listed_in.apply(lambda x: x.split(\", \"))\n",
    "\n",
    "data.head(2)"
   ]
  },
  {
   "attachments": {},
   "cell_type": "markdown",
   "metadata": {},
   "source": [
    "Separación de datos en diferentes Dataframes para disponibilizacion de datos"
   ]
  },
  {
   "cell_type": "code",
   "execution_count": 14,
   "metadata": {},
   "outputs": [],
   "source": [
    "#Hacemos una lista con todos los actores y generos unicos que hay mencionados en los datos\n",
    "unique_actors = data['cast'].explode().unique()\n",
    "unique_genres = data['listed_in'].explode().unique()\n",
    "\n",
    "#Transformamos los arrays en Dataframes para luego exportarlos\n",
    "actores = pd.DataFrame({'Actor': unique_actors})\n",
    "generos = pd.DataFrame({'Genero': unique_genres})"
   ]
  },
  {
   "cell_type": "code",
   "execution_count": 22,
   "metadata": {},
   "outputs": [
    {
     "data": {
      "text/html": [
       "<div>\n",
       "<style scoped>\n",
       "    .dataframe tbody tr th:only-of-type {\n",
       "        vertical-align: middle;\n",
       "    }\n",
       "\n",
       "    .dataframe tbody tr th {\n",
       "        vertical-align: top;\n",
       "    }\n",
       "\n",
       "    .dataframe thead th {\n",
       "        text-align: right;\n",
       "    }\n",
       "</style>\n",
       "<table border=\"1\" class=\"dataframe\">\n",
       "  <thead>\n",
       "    <tr style=\"text-align: right;\">\n",
       "      <th></th>\n",
       "      <th>Actor</th>\n",
       "    </tr>\n",
       "  </thead>\n",
       "  <tbody>\n",
       "    <tr>\n",
       "      <th>0</th>\n",
       "      <td>Chevy Chase</td>\n",
       "    </tr>\n",
       "    <tr>\n",
       "      <th>1</th>\n",
       "      <td>Judd Apatow</td>\n",
       "    </tr>\n",
       "    <tr>\n",
       "      <th>2</th>\n",
       "      <td>Henry Beard</td>\n",
       "    </tr>\n",
       "    <tr>\n",
       "      <th>3</th>\n",
       "      <td>PJ O’Rourke</td>\n",
       "    </tr>\n",
       "    <tr>\n",
       "      <th>4</th>\n",
       "      <td>Rajeev Khandelwal</td>\n",
       "    </tr>\n",
       "  </tbody>\n",
       "</table>\n",
       "</div>"
      ],
      "text/plain": [
       "               Actor\n",
       "0        Chevy Chase\n",
       "1        Judd Apatow\n",
       "2        Henry Beard\n",
       "3        PJ O’Rourke\n",
       "4  Rajeev Khandelwal"
      ]
     },
     "execution_count": 22,
     "metadata": {},
     "output_type": "execute_result"
    }
   ],
   "source": [
    "actores.head()"
   ]
  },
  {
   "cell_type": "code",
   "execution_count": 23,
   "metadata": {},
   "outputs": [
    {
     "data": {
      "text/html": [
       "<div>\n",
       "<style scoped>\n",
       "    .dataframe tbody tr th:only-of-type {\n",
       "        vertical-align: middle;\n",
       "    }\n",
       "\n",
       "    .dataframe tbody tr th {\n",
       "        vertical-align: top;\n",
       "    }\n",
       "\n",
       "    .dataframe thead th {\n",
       "        text-align: right;\n",
       "    }\n",
       "</style>\n",
       "<table border=\"1\" class=\"dataframe\">\n",
       "  <thead>\n",
       "    <tr style=\"text-align: right;\">\n",
       "      <th></th>\n",
       "      <th>Genero</th>\n",
       "    </tr>\n",
       "  </thead>\n",
       "  <tbody>\n",
       "    <tr>\n",
       "      <th>0</th>\n",
       "      <td>Documentary</td>\n",
       "    </tr>\n",
       "    <tr>\n",
       "      <th>1</th>\n",
       "      <td>Action &amp; Adventure</td>\n",
       "    </tr>\n",
       "    <tr>\n",
       "      <th>2</th>\n",
       "      <td>Dramas</td>\n",
       "    </tr>\n",
       "    <tr>\n",
       "      <th>3</th>\n",
       "      <td>International Movies</td>\n",
       "    </tr>\n",
       "    <tr>\n",
       "      <th>4</th>\n",
       "      <td>Comedy</td>\n",
       "    </tr>\n",
       "  </tbody>\n",
       "</table>\n",
       "</div>"
      ],
      "text/plain": [
       "                 Genero\n",
       "0           Documentary\n",
       "1    Action & Adventure\n",
       "2                Dramas\n",
       "3  International Movies\n",
       "4                Comedy"
      ]
     },
     "execution_count": 23,
     "metadata": {},
     "output_type": "execute_result"
    }
   ],
   "source": [
    "generos.head()"
   ]
  },
  {
   "attachments": {},
   "cell_type": "markdown",
   "metadata": {},
   "source": [
    "### **Reorden Columnas**"
   ]
  },
  {
   "attachments": {},
   "cell_type": "markdown",
   "metadata": {},
   "source": [
    "Reordenamos las columnas antes de exportarlas"
   ]
  },
  {
   "cell_type": "code",
   "execution_count": 15,
   "metadata": {},
   "outputs": [
    {
     "data": {
      "text/html": [
       "<div>\n",
       "<style scoped>\n",
       "    .dataframe tbody tr th:only-of-type {\n",
       "        vertical-align: middle;\n",
       "    }\n",
       "\n",
       "    .dataframe tbody tr th {\n",
       "        vertical-align: top;\n",
       "    }\n",
       "\n",
       "    .dataframe thead th {\n",
       "        text-align: right;\n",
       "    }\n",
       "</style>\n",
       "<table border=\"1\" class=\"dataframe\">\n",
       "  <thead>\n",
       "    <tr style=\"text-align: right;\">\n",
       "      <th></th>\n",
       "      <th>show_id</th>\n",
       "      <th>type</th>\n",
       "      <th>title</th>\n",
       "      <th>director</th>\n",
       "      <th>cast</th>\n",
       "      <th>country</th>\n",
       "      <th>date_added</th>\n",
       "      <th>release_year</th>\n",
       "      <th>antiquity_category</th>\n",
       "      <th>rating</th>\n",
       "      <th>duration_int</th>\n",
       "      <th>duration_type</th>\n",
       "      <th>duration_category</th>\n",
       "      <th>listed_in</th>\n",
       "      <th>description</th>\n",
       "      <th>Valoraciones</th>\n",
       "      <th>Promedio_Valoraciones</th>\n",
       "    </tr>\n",
       "  </thead>\n",
       "  <tbody>\n",
       "    <tr>\n",
       "      <th>0</th>\n",
       "      <td>as7362</td>\n",
       "      <td>Movie</td>\n",
       "      <td>Drunk, Stoned, Brilliant, Dead: The Story of t...</td>\n",
       "      <td>Douglas Tirola</td>\n",
       "      <td>[Chevy Chase, Judd Apatow, Henry Beard, PJ O’R...</td>\n",
       "      <td>None</td>\n",
       "      <td>None</td>\n",
       "      <td>2015</td>\n",
       "      <td>Vieja</td>\n",
       "      <td>R</td>\n",
       "      <td>95</td>\n",
       "      <td>min</td>\n",
       "      <td>Corta</td>\n",
       "      <td>[Documentary]</td>\n",
       "      <td>From 1970s-1990s, the hippest and most outrage...</td>\n",
       "      <td>469</td>\n",
       "      <td>3.7</td>\n",
       "    </tr>\n",
       "  </tbody>\n",
       "</table>\n",
       "</div>"
      ],
      "text/plain": [
       "  show_id   type                                              title  \\\n",
       "0  as7362  Movie  Drunk, Stoned, Brilliant, Dead: The Story of t...   \n",
       "\n",
       "         director                                               cast country  \\\n",
       "0  Douglas Tirola  [Chevy Chase, Judd Apatow, Henry Beard, PJ O’R...    None   \n",
       "\n",
       "  date_added  release_year antiquity_category rating  duration_int  \\\n",
       "0       None          2015              Vieja      R            95   \n",
       "\n",
       "  duration_type duration_category      listed_in  \\\n",
       "0           min             Corta  [Documentary]   \n",
       "\n",
       "                                         description  Valoraciones  \\\n",
       "0  From 1970s-1990s, the hippest and most outrage...           469   \n",
       "\n",
       "   Promedio_Valoraciones  \n",
       "0                    3.7  "
      ]
     },
     "execution_count": 15,
     "metadata": {},
     "output_type": "execute_result"
    }
   ],
   "source": [
    "#Reordenamos las columnas\n",
    "data = data.reindex(columns=['show_id', 'type', 'title', 'director', 'cast', 'country', 'date_added',\n",
    "       'release_year', \"antiquity_category\", 'rating', 'duration_int',\n",
    "       'duration_type', \"duration_category\", 'listed_in', 'description',\n",
    "       'Valoraciones', 'Promedio_Valoraciones'])\n",
    "\n",
    "data.head(1)"
   ]
  },
  {
   "attachments": {},
   "cell_type": "markdown",
   "metadata": {},
   "source": [
    "### **Exportacion de Datos**"
   ]
  },
  {
   "attachments": {},
   "cell_type": "markdown",
   "metadata": {},
   "source": [
    "Exportamos los datos en formato CSV para que puedan ser utilizados en el modelo de machine learning\n"
   ]
  },
  {
   "cell_type": "code",
   "execution_count": 16,
   "metadata": {},
   "outputs": [],
   "source": [
    "#Exportamos los dataframes que nos interesan a CSV\n",
    "data.to_csv('Datos/data.csv', index=False)\n",
    "actores.to_csv('Datos/actores.csv', index=True)\n",
    "generos.to_csv('Datos/generos.csv', index=True)"
   ]
  }
 ],
 "metadata": {
  "kernelspec": {
   "display_name": "base",
   "language": "python",
   "name": "python3"
  },
  "language_info": {
   "codemirror_mode": {
    "name": "ipython",
    "version": 3
   },
   "file_extension": ".py",
   "mimetype": "text/x-python",
   "name": "python",
   "nbconvert_exporter": "python",
   "pygments_lexer": "ipython3",
   "version": "3.9.7"
  },
  "orig_nbformat": 4,
  "vscode": {
   "interpreter": {
    "hash": "8347626938f0c92124cdd47ea83c678aa811759c184b91c50a888eac869421fd"
   }
  }
 },
 "nbformat": 4,
 "nbformat_minor": 2
}
