{
 "cells": [
  {
   "attachments": {},
   "cell_type": "markdown",
   "metadata": {},
   "source": [
    "**Importacion de librerias**"
   ]
  },
  {
   "cell_type": "code",
   "execution_count": 1,
   "metadata": {},
   "outputs": [],
   "source": [
    "import pandas as pd\n",
    "import numpy as np"
   ]
  },
  {
   "attachments": {},
   "cell_type": "markdown",
   "metadata": {},
   "source": [
    "**Importacion y union de datos**"
   ]
  },
  {
   "cell_type": "code",
   "execution_count": 2,
   "metadata": {},
   "outputs": [],
   "source": [
    "#Leemos los csv en forma de pandas DataFrame \n",
    "amazon = pd.read_csv(\"MLOpsReviews/amazon_prime_titles.csv\")\n",
    "disney = pd.read_csv(\"MLOpsReviews/disney_plus_titles.csv\")\n",
    "hulu = pd.read_csv(\"MLOpsReviews/hulu_titles.csv\")\n",
    "netflix = pd.read_csv(\"MLOpsReviews/netflix_titles.csv\")"
   ]
  },
  {
   "attachments": {},
   "cell_type": "markdown",
   "metadata": {},
   "source": [
    "### **ID***"
   ]
  },
  {
   "attachments": {},
   "cell_type": "markdown",
   "metadata": {},
   "source": [
    "Segun la consigna estandarizamos los ID de rating con los de las plataformas"
   ]
  },
  {
   "cell_type": "code",
   "execution_count": 3,
   "metadata": {},
   "outputs": [],
   "source": [
    "#estandarizamos las ID con las tablas de valoraciones para poder hacer filtraciones y crear una tabla con todos los datos unidos\n",
    "amazon.show_id = amazon.show_id.replace({'s':'as'}, regex=True)\n",
    "disney.show_id = disney.show_id.replace({'s':'ds'}, regex=True)\n",
    "hulu.show_id = hulu.show_id.replace({'s':'hs'}, regex=True)\n",
    "netflix.show_id = netflix.show_id.replace({'s':'ns'}, regex=True)"
   ]
  },
  {
   "attachments": {},
   "cell_type": "markdown",
   "metadata": {},
   "source": [
    "Unimos todos los datos para tener un dataframe global"
   ]
  },
  {
   "cell_type": "code",
   "execution_count": 4,
   "metadata": {},
   "outputs": [],
   "source": [
    "#unimos todos los datos en una tabla data\n",
    "data = pd.concat([amazon, disney, hulu, netflix])"
   ]
  },
  {
   "cell_type": "code",
   "execution_count": 19,
   "metadata": {},
   "outputs": [
    {
     "data": {
      "text/html": [
       "<div>\n",
       "<style scoped>\n",
       "    .dataframe tbody tr th:only-of-type {\n",
       "        vertical-align: middle;\n",
       "    }\n",
       "\n",
       "    .dataframe tbody tr th {\n",
       "        vertical-align: top;\n",
       "    }\n",
       "\n",
       "    .dataframe thead th {\n",
       "        text-align: right;\n",
       "    }\n",
       "</style>\n",
       "<table border=\"1\" class=\"dataframe\">\n",
       "  <thead>\n",
       "    <tr style=\"text-align: right;\">\n",
       "      <th></th>\n",
       "      <th>show_id</th>\n",
       "      <th>type</th>\n",
       "      <th>title</th>\n",
       "      <th>director</th>\n",
       "      <th>cast</th>\n",
       "      <th>country</th>\n",
       "      <th>date_added</th>\n",
       "      <th>release_year</th>\n",
       "      <th>rating</th>\n",
       "      <th>duration</th>\n",
       "      <th>listed_in</th>\n",
       "      <th>description</th>\n",
       "      <th>Valoraciones_x</th>\n",
       "      <th>Promedio_Valoraciones_x</th>\n",
       "      <th>Valoraciones_y</th>\n",
       "      <th>Promedio_Valoraciones_y</th>\n",
       "      <th>Valoraciones</th>\n",
       "      <th>Promedio_Valoraciones</th>\n",
       "    </tr>\n",
       "  </thead>\n",
       "  <tbody>\n",
       "    <tr>\n",
       "      <th>0</th>\n",
       "      <td>as7362</td>\n",
       "      <td>Movie</td>\n",
       "      <td>Drunk, Stoned, Brilliant, Dead: The Story of t...</td>\n",
       "      <td>Douglas Tirola</td>\n",
       "      <td>Chevy Chase, Judd Apatow, Henry Beard, PJ O’Ro...</td>\n",
       "      <td>NaN</td>\n",
       "      <td>NaN</td>\n",
       "      <td>2015</td>\n",
       "      <td>R</td>\n",
       "      <td>95 min</td>\n",
       "      <td>Documentary</td>\n",
       "      <td>From 1970s-1990s, the hippest and most outrage...</td>\n",
       "      <td>469</td>\n",
       "      <td>3.7</td>\n",
       "      <td>469</td>\n",
       "      <td>3.7</td>\n",
       "      <td>469</td>\n",
       "      <td>3.7</td>\n",
       "    </tr>\n",
       "    <tr>\n",
       "      <th>1</th>\n",
       "      <td>ns3234</td>\n",
       "      <td>Movie</td>\n",
       "      <td>Pranaam</td>\n",
       "      <td>Sanjiv Jaiswal</td>\n",
       "      <td>Rajeev Khandelwal, Samiksha Singh, S.M. Zaheer...</td>\n",
       "      <td>India</td>\n",
       "      <td>November 25, 2019</td>\n",
       "      <td>2019</td>\n",
       "      <td>TV-14</td>\n",
       "      <td>117 min</td>\n",
       "      <td>Action &amp; Adventure, Dramas, International Movies</td>\n",
       "      <td>Aspiring to fulfill his father’s dream and bec...</td>\n",
       "      <td>490</td>\n",
       "      <td>3.7</td>\n",
       "      <td>490</td>\n",
       "      <td>3.7</td>\n",
       "      <td>490</td>\n",
       "      <td>3.7</td>\n",
       "    </tr>\n",
       "  </tbody>\n",
       "</table>\n",
       "</div>"
      ],
      "text/plain": [
       "  show_id   type                                              title  \\\n",
       "0  as7362  Movie  Drunk, Stoned, Brilliant, Dead: The Story of t...   \n",
       "1  ns3234  Movie                                            Pranaam   \n",
       "\n",
       "         director                                               cast country  \\\n",
       "0  Douglas Tirola  Chevy Chase, Judd Apatow, Henry Beard, PJ O’Ro...     NaN   \n",
       "1  Sanjiv Jaiswal  Rajeev Khandelwal, Samiksha Singh, S.M. Zaheer...   India   \n",
       "\n",
       "          date_added  release_year rating duration  \\\n",
       "0                NaN          2015      R   95 min   \n",
       "1  November 25, 2019          2019  TV-14  117 min   \n",
       "\n",
       "                                          listed_in  \\\n",
       "0                                       Documentary   \n",
       "1  Action & Adventure, Dramas, International Movies   \n",
       "\n",
       "                                         description  Valoraciones_x  \\\n",
       "0  From 1970s-1990s, the hippest and most outrage...             469   \n",
       "1  Aspiring to fulfill his father’s dream and bec...             490   \n",
       "\n",
       "   Promedio_Valoraciones_x  Valoraciones_y  Promedio_Valoraciones_y  \\\n",
       "0                      3.7             469                      3.7   \n",
       "1                      3.7             490                      3.7   \n",
       "\n",
       "   Valoraciones  Promedio_Valoraciones  \n",
       "0           469                    3.7  \n",
       "1           490                    3.7  "
      ]
     },
     "execution_count": 19,
     "metadata": {},
     "output_type": "execute_result"
    }
   ],
   "source": [
    "data.head(2)"
   ]
  },
  {
   "attachments": {},
   "cell_type": "markdown",
   "metadata": {},
   "source": [
    "### **Spark**"
   ]
  },
  {
   "attachments": {},
   "cell_type": "markdown",
   "metadata": {},
   "source": [
    "Creamos una app spark para poder manipular grandes volumenes de datos"
   ]
  },
  {
   "cell_type": "code",
   "execution_count": 5,
   "metadata": {},
   "outputs": [],
   "source": [
    "from pyspark.sql import SparkSession\n",
    "from pyspark.sql.functions import *\n",
    "\n",
    "spark = SparkSession.builder.appName('app').getOrCreate()"
   ]
  },
  {
   "attachments": {},
   "cell_type": "markdown",
   "metadata": {},
   "source": [
    "Leemos todos los CSV con spark"
   ]
  },
  {
   "cell_type": "code",
   "execution_count": 6,
   "metadata": {},
   "outputs": [],
   "source": [
    "#Leemos estas tablas con spark por su tamaño\n",
    "d1 = spark.read.csv(\"MLOpsReviews/ratings/1.csv\", header=True, inferSchema=True)\n",
    "d2 = spark.read.csv(\"MLOpsReviews/ratings/2.csv\", header=True, inferSchema=True)\n",
    "d3 = spark.read.csv(\"MLOpsReviews/ratings/3.csv\", header=True, inferSchema=True)\n",
    "d4 = spark.read.csv(\"MLOpsReviews/ratings/4.csv\", header=True, inferSchema=True)\n",
    "d5 = spark.read.csv(\"MLOpsReviews/ratings/5.csv\", header=True, inferSchema=True)\n",
    "d6 = spark.read.csv(\"MLOpsReviews/ratings/6.csv\", header=True, inferSchema=True)\n",
    "d7 = spark.read.csv(\"MLOpsReviews/ratings/7.csv\", header=True, inferSchema=True)\n",
    "d8 = spark.read.csv(\"MLOpsReviews/ratings/8.csv\", header=True, inferSchema=True)\n"
   ]
  },
  {
   "attachments": {},
   "cell_type": "markdown",
   "metadata": {},
   "source": [
    "Unimos todos los CSV en un solo dataframe de ratings"
   ]
  },
  {
   "cell_type": "code",
   "execution_count": 7,
   "metadata": {},
   "outputs": [
    {
     "name": "stdout",
     "output_type": "stream",
     "text": [
      "+------+------+----------+-------+\n",
      "|userId|rating| timestamp|movieId|\n",
      "+------+------+----------+-------+\n",
      "|     1|   1.0|1425941529|  as680|\n",
      "|     1|   4.5|1425942435| ns2186|\n",
      "|     1|   5.0|1425941523| hs2381|\n",
      "+------+------+----------+-------+\n",
      "\n"
     ]
    }
   ],
   "source": [
    "#Unimos los datos rating\n",
    "df_list = [d1, d2, d3, d4, d5, d6, d7, d8]\n",
    "\n",
    "rating = df_list[0]\n",
    "for i in range(1, len(df_list)):\n",
    "    rating = rating.union(df_list[i])\n",
    "    \n",
    "rating.limit(3).show()"
   ]
  },
  {
   "attachments": {},
   "cell_type": "markdown",
   "metadata": {},
   "source": [
    "Creacion de datos sobre el promedio y la cantidad de valoraciones segun cada ID"
   ]
  },
  {
   "cell_type": "code",
   "execution_count": 9,
   "metadata": {},
   "outputs": [
    {
     "name": "stdout",
     "output_type": "stream",
     "text": [
      "+-------+-----+\n",
      "|movieId|count|\n",
      "+-------+-----+\n",
      "| ns8641|   65|\n",
      "| as1586|   73|\n",
      "| hs1299|   69|\n",
      "+-------+-----+\n",
      "\n",
      "+-------+----+\n",
      "|movieId|prom|\n",
      "+-------+----+\n",
      "| ns8641|3.49|\n",
      "| as1586|3.34|\n",
      "| hs1299|3.61|\n",
      "+-------+----+\n",
      "\n"
     ]
    },
    {
     "data": {
      "text/plain": [
       "(None, None)"
      ]
     },
     "execution_count": 9,
     "metadata": {},
     "output_type": "execute_result"
    }
   ],
   "source": [
    "#Contamos cada valoracion por ID para sacar el numero de valoraciones por ID\n",
    "d1c = d1.groupBy(\"movieId\").agg(count(\"movieId\").alias(\"count\"))\n",
    "d2c = d2.groupBy(\"movieId\").agg(count(\"movieId\").alias(\"count2\"))\n",
    "d3c = d3.groupBy(\"movieId\").agg(count(\"movieId\").alias(\"count3\"))\n",
    "d4c = d4.groupBy(\"movieId\").agg(count(\"movieId\").alias(\"count4\"))\n",
    "d5c = d5.groupBy(\"movieId\").agg(count(\"movieId\").alias(\"count5\"))\n",
    "d6c = d6.groupBy(\"movieId\").agg(count(\"movieId\").alias(\"count6\"))\n",
    "d7c = d7.groupBy(\"movieId\").agg(count(\"movieId\").alias(\"count7\"))\n",
    "d8c = d8.groupBy(\"movieId\").agg(count(\"movieId\").alias(\"count8\"))\n",
    "\n",
    "#sacamos el promedio de rating por cada ID\n",
    "d1p = d1.groupBy(\"movieId\").agg(round(avg(\"rating\"), 2).alias(\"prom\"))\n",
    "d2p = d2.groupBy(\"movieId\").agg(round(avg(\"rating\"), 2).alias(\"prom2\"))\n",
    "d3p = d3.groupBy(\"movieId\").agg(round(avg(\"rating\"), 2).alias(\"prom3\"))\n",
    "d4p = d4.groupBy(\"movieId\").agg(round(avg(\"rating\"), 2).alias(\"prom4\"))\n",
    "d5p = d5.groupBy(\"movieId\").agg(round(avg(\"rating\"), 2).alias(\"prom5\"))\n",
    "d6p = d6.groupBy(\"movieId\").agg(round(avg(\"rating\"), 2).alias(\"prom6\"))\n",
    "d7p = d7.groupBy(\"movieId\").agg(round(avg(\"rating\"), 2).alias(\"prom7\"))\n",
    "d8p = d8.groupBy(\"movieId\").agg(round(avg(\"rating\"), 2).alias(\"prom8\"))\n",
    "\n",
    "d1c.limit(3).show(), d1p.limit(3).show()"
   ]
  },
  {
   "cell_type": "code",
   "execution_count": 10,
   "metadata": {},
   "outputs": [
    {
     "name": "stdout",
     "output_type": "stream",
     "text": [
      "+-------+-----+------+------+------+------+------+------+------+\n",
      "|movieId|count|count2|count3|count4|count5|count6|count7|count8|\n",
      "+-------+-----+------+------+------+------+------+------+------+\n",
      "|    as1|   59|    53|    58|    75|    79|    83|    26|    69|\n",
      "|   as10|   75|    70|    65|    64|    71|    75|    29|    64|\n",
      "|  as100|   52|    52|    66|    79|    57|    46|    17|    61|\n",
      "+-------+-----+------+------+------+------+------+------+------+\n",
      "\n",
      "+-------+----+-----+-----+-----+-----+-----+-----+-----+\n",
      "|movieId|prom|prom2|prom3|prom4|prom5|prom6|prom7|prom8|\n",
      "+-------+----+-----+-----+-----+-----+-----+-----+-----+\n",
      "|    as1| 3.5| 3.55| 3.44| 3.46| 3.46| 3.43| 3.38| 3.49|\n",
      "|  as100|3.38| 3.52| 3.42| 3.55| 3.76| 3.79| 4.09| 3.75|\n",
      "| as1002|3.91| 3.49| 3.45| 3.63| 3.59| 3.64| 3.77| 3.42|\n",
      "+-------+----+-----+-----+-----+-----+-----+-----+-----+\n",
      "\n"
     ]
    },
    {
     "data": {
      "text/plain": [
       "(None, None)"
      ]
     },
     "execution_count": 10,
     "metadata": {},
     "output_type": "execute_result"
    }
   ],
   "source": [
    "#Unimos las cuentas para sumarlas\n",
    "dfs = [d2c, d3c, d4c, d5c, d6c, d7c, d8c]\n",
    "for df in dfs:\n",
    "    d1c = d1c.join(df, on=\"movieId\", how=\"outer\").fillna(0)  \n",
    "    \n",
    "dfs = [d2p, d3p, d4p, d5p, d6p, d7p, d8p]\n",
    "for df in dfs:\n",
    "    d1p = d1p.join(df, on=\"movieId\", how=\"outer\").fillna(0)   \n",
    "\n",
    "d1c.limit(3).show(), d1p.limit(3).show()"
   ]
  },
  {
   "attachments": {},
   "cell_type": "markdown",
   "metadata": {},
   "source": [
    "### **Promedios y Numero de Valoraciones**"
   ]
  },
  {
   "attachments": {},
   "cell_type": "markdown",
   "metadata": {},
   "source": [
    "Spark funciona muy bien para manipular los millones de datos que teniamos antes, pero luego de las funciones de agregación, la cantidad de datos disminuyeron, por lo que conviene usar pandas"
   ]
  },
  {
   "cell_type": "code",
   "execution_count": 11,
   "metadata": {},
   "outputs": [
    {
     "data": {
      "text/html": [
       "<div>\n",
       "<style scoped>\n",
       "    .dataframe tbody tr th:only-of-type {\n",
       "        vertical-align: middle;\n",
       "    }\n",
       "\n",
       "    .dataframe tbody tr th {\n",
       "        vertical-align: top;\n",
       "    }\n",
       "\n",
       "    .dataframe thead th {\n",
       "        text-align: right;\n",
       "    }\n",
       "</style>\n",
       "<table border=\"1\" class=\"dataframe\">\n",
       "  <thead>\n",
       "    <tr style=\"text-align: right;\">\n",
       "      <th></th>\n",
       "      <th>show_id</th>\n",
       "      <th>Valoraciones</th>\n",
       "    </tr>\n",
       "  </thead>\n",
       "  <tbody>\n",
       "    <tr>\n",
       "      <th>0</th>\n",
       "      <td>as1</td>\n",
       "      <td>502</td>\n",
       "    </tr>\n",
       "    <tr>\n",
       "      <th>1</th>\n",
       "      <td>as10</td>\n",
       "      <td>513</td>\n",
       "    </tr>\n",
       "    <tr>\n",
       "      <th>2</th>\n",
       "      <td>as100</td>\n",
       "      <td>430</td>\n",
       "    </tr>\n",
       "    <tr>\n",
       "      <th>3</th>\n",
       "      <td>as1000</td>\n",
       "      <td>485</td>\n",
       "    </tr>\n",
       "    <tr>\n",
       "      <th>4</th>\n",
       "      <td>as1001</td>\n",
       "      <td>469</td>\n",
       "    </tr>\n",
       "  </tbody>\n",
       "</table>\n",
       "</div>"
      ],
      "text/plain": [
       "  show_id  Valoraciones\n",
       "0     as1           502\n",
       "1    as10           513\n",
       "2   as100           430\n",
       "3  as1000           485\n",
       "4  as1001           469"
      ]
     },
     "execution_count": 11,
     "metadata": {},
     "output_type": "execute_result"
    }
   ],
   "source": [
    "#como son menos las convertimos a formato pandas para agillizar el proceso de suma\n",
    "ranking = d1c.toPandas()\n",
    "#sumamos todas las columnas para quedarnos con una sola\n",
    "ranking[\"Valoraciones\"] = ranking.loc[:, ranking.columns != 'movieId'].sum(axis=1)\n",
    "ranking = ranking[[\"movieId\",\"Valoraciones\"]]\n",
    "ranking.columns = ['show_id', 'Valoraciones']\n",
    "\n",
    "#como son menos las convertimos a formato pandas para agillizar el proceso de suma\n",
    "ranking_promedio = d1p.toPandas()\n",
    "#sumamos todas las columnas para quedarnos con una sola\n",
    "ranking_promedio[\"Promedio_Valoraciones\"] = ranking_promedio.loc[:, ranking_promedio.columns != 'movieId'].mean(axis=1).round(1)\n",
    "ranking_promedio = ranking_promedio[[\"movieId\",\"Promedio_Valoraciones\"]]\n",
    "ranking_promedio.columns = ['show_id', 'Promedio_Valoraciones']\n",
    "\n",
    "ranking.head()"
   ]
  },
  {
   "cell_type": "code",
   "execution_count": 12,
   "metadata": {},
   "outputs": [
    {
     "data": {
      "text/html": [
       "<div>\n",
       "<style scoped>\n",
       "    .dataframe tbody tr th:only-of-type {\n",
       "        vertical-align: middle;\n",
       "    }\n",
       "\n",
       "    .dataframe tbody tr th {\n",
       "        vertical-align: top;\n",
       "    }\n",
       "\n",
       "    .dataframe thead th {\n",
       "        text-align: right;\n",
       "    }\n",
       "</style>\n",
       "<table border=\"1\" class=\"dataframe\">\n",
       "  <thead>\n",
       "    <tr style=\"text-align: right;\">\n",
       "      <th></th>\n",
       "      <th>show_id</th>\n",
       "      <th>Promedio_Valoraciones</th>\n",
       "    </tr>\n",
       "  </thead>\n",
       "  <tbody>\n",
       "    <tr>\n",
       "      <th>0</th>\n",
       "      <td>as1</td>\n",
       "      <td>3.5</td>\n",
       "    </tr>\n",
       "    <tr>\n",
       "      <th>1</th>\n",
       "      <td>as100</td>\n",
       "      <td>3.7</td>\n",
       "    </tr>\n",
       "    <tr>\n",
       "      <th>2</th>\n",
       "      <td>as1002</td>\n",
       "      <td>3.6</td>\n",
       "    </tr>\n",
       "    <tr>\n",
       "      <th>3</th>\n",
       "      <td>as1006</td>\n",
       "      <td>3.5</td>\n",
       "    </tr>\n",
       "    <tr>\n",
       "      <th>4</th>\n",
       "      <td>as1008</td>\n",
       "      <td>3.4</td>\n",
       "    </tr>\n",
       "  </tbody>\n",
       "</table>\n",
       "</div>"
      ],
      "text/plain": [
       "  show_id  Promedio_Valoraciones\n",
       "0     as1                    3.5\n",
       "1   as100                    3.7\n",
       "2  as1002                    3.6\n",
       "3  as1006                    3.5\n",
       "4  as1008                    3.4"
      ]
     },
     "execution_count": 12,
     "metadata": {},
     "output_type": "execute_result"
    }
   ],
   "source": [
    "ranking_promedio.head()"
   ]
  },
  {
   "attachments": {},
   "cell_type": "markdown",
   "metadata": {},
   "source": [
    "Unimos estos nuevos datos que extraimos de rating y los metemos a nuestro dataframe global"
   ]
  },
  {
   "cell_type": "code",
   "execution_count": 18,
   "metadata": {},
   "outputs": [
    {
     "data": {
      "text/html": [
       "<div>\n",
       "<style scoped>\n",
       "    .dataframe tbody tr th:only-of-type {\n",
       "        vertical-align: middle;\n",
       "    }\n",
       "\n",
       "    .dataframe tbody tr th {\n",
       "        vertical-align: top;\n",
       "    }\n",
       "\n",
       "    .dataframe thead th {\n",
       "        text-align: right;\n",
       "    }\n",
       "</style>\n",
       "<table border=\"1\" class=\"dataframe\">\n",
       "  <thead>\n",
       "    <tr style=\"text-align: right;\">\n",
       "      <th></th>\n",
       "      <th>show_id</th>\n",
       "      <th>type</th>\n",
       "      <th>title</th>\n",
       "      <th>director</th>\n",
       "      <th>cast</th>\n",
       "      <th>country</th>\n",
       "      <th>date_added</th>\n",
       "      <th>release_year</th>\n",
       "      <th>rating</th>\n",
       "      <th>duration</th>\n",
       "      <th>listed_in</th>\n",
       "      <th>description</th>\n",
       "      <th>Valoraciones_x</th>\n",
       "      <th>Promedio_Valoraciones_x</th>\n",
       "      <th>Valoraciones_y</th>\n",
       "      <th>Promedio_Valoraciones_y</th>\n",
       "      <th>Valoraciones</th>\n",
       "      <th>Promedio_Valoraciones</th>\n",
       "    </tr>\n",
       "  </thead>\n",
       "  <tbody>\n",
       "    <tr>\n",
       "      <th>0</th>\n",
       "      <td>as7362</td>\n",
       "      <td>Movie</td>\n",
       "      <td>Drunk, Stoned, Brilliant, Dead: The Story of t...</td>\n",
       "      <td>Douglas Tirola</td>\n",
       "      <td>Chevy Chase, Judd Apatow, Henry Beard, PJ O’Ro...</td>\n",
       "      <td>NaN</td>\n",
       "      <td>NaN</td>\n",
       "      <td>2015</td>\n",
       "      <td>R</td>\n",
       "      <td>95 min</td>\n",
       "      <td>Documentary</td>\n",
       "      <td>From 1970s-1990s, the hippest and most outrage...</td>\n",
       "      <td>469</td>\n",
       "      <td>3.7</td>\n",
       "      <td>469</td>\n",
       "      <td>3.7</td>\n",
       "      <td>469</td>\n",
       "      <td>3.7</td>\n",
       "    </tr>\n",
       "  </tbody>\n",
       "</table>\n",
       "</div>"
      ],
      "text/plain": [
       "  show_id   type                                              title  \\\n",
       "0  as7362  Movie  Drunk, Stoned, Brilliant, Dead: The Story of t...   \n",
       "\n",
       "         director                                               cast country  \\\n",
       "0  Douglas Tirola  Chevy Chase, Judd Apatow, Henry Beard, PJ O’Ro...     NaN   \n",
       "\n",
       "  date_added  release_year rating duration    listed_in  \\\n",
       "0        NaN          2015      R   95 min  Documentary   \n",
       "\n",
       "                                         description  Valoraciones_x  \\\n",
       "0  From 1970s-1990s, the hippest and most outrage...             469   \n",
       "\n",
       "   Promedio_Valoraciones_x  Valoraciones_y  Promedio_Valoraciones_y  \\\n",
       "0                      3.7             469                      3.7   \n",
       "\n",
       "   Valoraciones  Promedio_Valoraciones  \n",
       "0           469                    3.7  "
      ]
     },
     "execution_count": 18,
     "metadata": {},
     "output_type": "execute_result"
    }
   ],
   "source": [
    "#añadimos el numero de valoraciones para cada pelicula\n",
    "data = pd.merge(data, ranking, on='show_id')\n",
    "#añadimos el numero de valoraciones para cada pelicula\n",
    "data = pd.merge(data, ranking_promedio, on='show_id')\n",
    "\n",
    "data.head(1)"
   ]
  },
  {
   "cell_type": "code",
   "execution_count": 14,
   "metadata": {},
   "outputs": [
    {
     "data": {
      "text/html": [
       "<div>\n",
       "<style scoped>\n",
       "    .dataframe tbody tr th:only-of-type {\n",
       "        vertical-align: middle;\n",
       "    }\n",
       "\n",
       "    .dataframe tbody tr th {\n",
       "        vertical-align: top;\n",
       "    }\n",
       "\n",
       "    .dataframe thead th {\n",
       "        text-align: right;\n",
       "    }\n",
       "</style>\n",
       "<table border=\"1\" class=\"dataframe\">\n",
       "  <thead>\n",
       "    <tr style=\"text-align: right;\">\n",
       "      <th></th>\n",
       "      <th>show_id</th>\n",
       "      <th>type</th>\n",
       "      <th>title</th>\n",
       "      <th>director</th>\n",
       "      <th>cast</th>\n",
       "      <th>country</th>\n",
       "      <th>date_added</th>\n",
       "      <th>release_year</th>\n",
       "      <th>rating</th>\n",
       "      <th>duration</th>\n",
       "      <th>listed_in</th>\n",
       "      <th>description</th>\n",
       "      <th>Valoraciones</th>\n",
       "      <th>Promedio_Valoraciones</th>\n",
       "    </tr>\n",
       "  </thead>\n",
       "  <tbody>\n",
       "    <tr>\n",
       "      <th>7361</th>\n",
       "      <td>as7362</td>\n",
       "      <td>Movie</td>\n",
       "      <td>Drunk, Stoned, Brilliant, Dead: The Story of t...</td>\n",
       "      <td>Douglas Tirola</td>\n",
       "      <td>Chevy Chase, Judd Apatow, Henry Beard, PJ O’Ro...</td>\n",
       "      <td>NaN</td>\n",
       "      <td>NaN</td>\n",
       "      <td>2015</td>\n",
       "      <td>R</td>\n",
       "      <td>95 min</td>\n",
       "      <td>Documentary</td>\n",
       "      <td>From 1970s-1990s, the hippest and most outrage...</td>\n",
       "      <td>469</td>\n",
       "      <td>3.7</td>\n",
       "    </tr>\n",
       "    <tr>\n",
       "      <th>17424</th>\n",
       "      <td>ns3234</td>\n",
       "      <td>Movie</td>\n",
       "      <td>Pranaam</td>\n",
       "      <td>Sanjiv Jaiswal</td>\n",
       "      <td>Rajeev Khandelwal, Samiksha Singh, S.M. Zaheer...</td>\n",
       "      <td>India</td>\n",
       "      <td>November 25, 2019</td>\n",
       "      <td>2019</td>\n",
       "      <td>TV-14</td>\n",
       "      <td>117 min</td>\n",
       "      <td>Action &amp; Adventure, Dramas, International Movies</td>\n",
       "      <td>Aspiring to fulfill his father’s dream and bec...</td>\n",
       "      <td>490</td>\n",
       "      <td>3.7</td>\n",
       "    </tr>\n",
       "  </tbody>\n",
       "</table>\n",
       "</div>"
      ],
      "text/plain": [
       "      show_id   type                                              title  \\\n",
       "7361   as7362  Movie  Drunk, Stoned, Brilliant, Dead: The Story of t...   \n",
       "17424  ns3234  Movie                                            Pranaam   \n",
       "\n",
       "             director                                               cast  \\\n",
       "7361   Douglas Tirola  Chevy Chase, Judd Apatow, Henry Beard, PJ O’Ro...   \n",
       "17424  Sanjiv Jaiswal  Rajeev Khandelwal, Samiksha Singh, S.M. Zaheer...   \n",
       "\n",
       "      country         date_added  release_year rating duration  \\\n",
       "7361      NaN                NaN          2015      R   95 min   \n",
       "17424   India  November 25, 2019          2019  TV-14  117 min   \n",
       "\n",
       "                                              listed_in  \\\n",
       "7361                                        Documentary   \n",
       "17424  Action & Adventure, Dramas, International Movies   \n",
       "\n",
       "                                             description  Valoraciones  \\\n",
       "7361   From 1970s-1990s, the hippest and most outrage...           469   \n",
       "17424  Aspiring to fulfill his father’s dream and bec...           490   \n",
       "\n",
       "       Promedio_Valoraciones  \n",
       "7361                     3.7  \n",
       "17424                    3.7  "
      ]
     },
     "execution_count": 14,
     "metadata": {},
     "output_type": "execute_result"
    }
   ],
   "source": [
    "#Ordenamos descendientemente por el numero promedio de rating\n",
    "data = data.sort_values(by = \"Promedio_Valoraciones\", ascending = False)\n",
    "data.head(2)"
   ]
  },
  {
   "attachments": {},
   "cell_type": "markdown",
   "metadata": {},
   "source": [
    "### **Exportacion de Datos**"
   ]
  },
  {
   "cell_type": "code",
   "execution_count": 15,
   "metadata": {},
   "outputs": [],
   "source": [
    "data.to_csv('Raw/data_raw.csv', index=False)"
   ]
  }
 ],
 "metadata": {
  "kernelspec": {
   "display_name": "base",
   "language": "python",
   "name": "python3"
  },
  "language_info": {
   "codemirror_mode": {
    "name": "ipython",
    "version": 3
   },
   "file_extension": ".py",
   "mimetype": "text/x-python",
   "name": "python",
   "nbconvert_exporter": "python",
   "pygments_lexer": "ipython3",
   "version": "3.9.7"
  },
  "orig_nbformat": 4,
  "vscode": {
   "interpreter": {
    "hash": "8347626938f0c92124cdd47ea83c678aa811759c184b91c50a888eac869421fd"
   }
  }
 },
 "nbformat": 4,
 "nbformat_minor": 2
}
